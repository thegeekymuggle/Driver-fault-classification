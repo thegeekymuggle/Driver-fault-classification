{
  "cells": [
    {
      "cell_type": "code",
      "execution_count": null,
      "id": "ac40b0ab",
      "metadata": {
        "id": "ac40b0ab"
      },
      "outputs": [],
      "source": [
        "import numpy as np\n",
        "import pandas as pd\n",
        "import seaborn as sns\n",
        "from sklearn.ensemble import ExtraTreesClassifier, RandomForestClassifier, GradientBoostingClassifier\n",
        "from sklearn.model_selection import train_test_split\n",
        "import matplotlib.pyplot as plt\n",
        "from sklearn.preprocessing import LabelEncoder, MinMaxScaler\n",
        "from sklearn import svm\n",
        "from sklearn.metrics import accuracy_score\n",
        "import xgboost as xgb"
      ]
    },
    {
      "cell_type": "markdown",
      "id": "1f53cca4",
      "metadata": {
        "id": "1f53cca4"
      },
      "source": [
        "## Reading the data"
      ]
    },
    {
      "cell_type": "code",
      "execution_count": null,
      "id": "39fb5321",
      "metadata": {
        "colab": {
          "base_uri": "https://localhost:8080/",
          "height": 479
        },
        "id": "39fb5321",
        "outputId": "0181dba5-8625-40f5-f4bf-cc80f87450a3"
      },
      "outputs": [
        {
          "data": {
            "text/html": [
              "<div>\n",
              "<style scoped>\n",
              "    .dataframe tbody tr th:only-of-type {\n",
              "        vertical-align: middle;\n",
              "    }\n",
              "\n",
              "    .dataframe tbody tr th {\n",
              "        vertical-align: top;\n",
              "    }\n",
              "\n",
              "    .dataframe thead th {\n",
              "        text-align: right;\n",
              "    }\n",
              "</style>\n",
              "<table border=\"1\" class=\"dataframe\">\n",
              "  <thead>\n",
              "    <tr style=\"text-align: right;\">\n",
              "      <th></th>\n",
              "      <th>Report Number</th>\n",
              "      <th>Local Case Number</th>\n",
              "      <th>Agency Name</th>\n",
              "      <th>ACRS Report Type</th>\n",
              "      <th>Crash Date/Time</th>\n",
              "      <th>Route Type</th>\n",
              "      <th>Road Name</th>\n",
              "      <th>Cross-Street Type</th>\n",
              "      <th>Cross-Street Name</th>\n",
              "      <th>Off-Road Description</th>\n",
              "      <th>Municipality</th>\n",
              "      <th>Related Non-Motorist</th>\n",
              "      <th>Collision Type</th>\n",
              "      <th>Weather</th>\n",
              "      <th>Surface Condition</th>\n",
              "      <th>Light</th>\n",
              "      <th>Traffic Control</th>\n",
              "      <th>Driver Substance Abuse</th>\n",
              "      <th>Non-Motorist Substance Abuse</th>\n",
              "      <th>Person ID</th>\n",
              "      <th>Injury Severity</th>\n",
              "      <th>Circumstance</th>\n",
              "      <th>Drivers License State</th>\n",
              "      <th>Vehicle ID</th>\n",
              "      <th>Vehicle Damage Extent</th>\n",
              "      <th>Vehicle First Impact Location</th>\n",
              "      <th>Vehicle Second Impact Location</th>\n",
              "      <th>Vehicle Body Type</th>\n",
              "      <th>Vehicle Movement</th>\n",
              "      <th>Vehicle Continuing Dir</th>\n",
              "      <th>Vehicle Going Dir</th>\n",
              "      <th>Speed Limit</th>\n",
              "      <th>Driverless Vehicle</th>\n",
              "      <th>Parked Vehicle</th>\n",
              "      <th>Vehicle Year</th>\n",
              "      <th>Vehicle Make</th>\n",
              "      <th>Vehicle Model</th>\n",
              "      <th>Equipment Problems</th>\n",
              "      <th>Latitude</th>\n",
              "      <th>Longitude</th>\n",
              "      <th>Location</th>\n",
              "      <th>Fault</th>\n",
              "    </tr>\n",
              "  </thead>\n",
              "  <tbody>\n",
              "    <tr>\n",
              "      <th>0</th>\n",
              "      <td>MP060D</td>\n",
              "      <td>10196</td>\n",
              "      <td>Montgomery County Police</td>\n",
              "      <td>Injury Crash</td>\n",
              "      <td>06/05/2017 04:27:00 PM</td>\n",
              "      <td>Maryland (State)</td>\n",
              "      <td>OLD HUNDRED RD</td>\n",
              "      <td>County</td>\n",
              "      <td>THURSTON RD</td>\n",
              "      <td>12305 SHOREFIELD RD</td>\n",
              "      <td>NaN</td>\n",
              "      <td>NaN</td>\n",
              "      <td>SINGLE VEHICLE</td>\n",
              "      <td>CLEAR</td>\n",
              "      <td>WET</td>\n",
              "      <td>DAYLIGHT</td>\n",
              "      <td>NO CONTROLS</td>\n",
              "      <td>NONE DETECTED</td>\n",
              "      <td>NaN</td>\n",
              "      <td>466D8B-AC8C7</td>\n",
              "      <td>SUSPECTED MINOR INJURY</td>\n",
              "      <td>N/A, WET</td>\n",
              "      <td>MD</td>\n",
              "      <td>7C2FEC-727F4</td>\n",
              "      <td>DESTROYED</td>\n",
              "      <td>TWELVE OCLOCK</td>\n",
              "      <td>TWELVE OCLOCK</td>\n",
              "      <td>PICKUP TRUCK</td>\n",
              "      <td>MOVING CONSTANT SPEED</td>\n",
              "      <td>South</td>\n",
              "      <td>Unknown</td>\n",
              "      <td>40</td>\n",
              "      <td>No</td>\n",
              "      <td>No</td>\n",
              "      <td>2005</td>\n",
              "      <td>GMC</td>\n",
              "      <td>TRUCK</td>\n",
              "      <td>NO MISUSE</td>\n",
              "      <td>39.263378</td>\n",
              "      <td>-77.344203</td>\n",
              "      <td>3.6383 7.4233</td>\n",
              "      <td>1</td>\n",
              "    </tr>\n",
              "    <tr>\n",
              "      <th>1</th>\n",
              "      <td>MP000X</td>\n",
              "      <td>20080</td>\n",
              "      <td>Montgomery County Police</td>\n",
              "      <td>Injury Crash</td>\n",
              "      <td>02/22/2020 10:00:00 AM</td>\n",
              "      <td>County</td>\n",
              "      <td>JANET RD</td>\n",
              "      <td>County</td>\n",
              "      <td>FLACK ST</td>\n",
              "      <td>NaN</td>\n",
              "      <td>NaN</td>\n",
              "      <td>NaN</td>\n",
              "      <td>STRAIGHT MOVEMENT ANGLE</td>\n",
              "      <td>CLEAR</td>\n",
              "      <td>DRY</td>\n",
              "      <td>DAYLIGHT</td>\n",
              "      <td>STOP SIGN</td>\n",
              "      <td>NONE DETECTED</td>\n",
              "      <td>NaN</td>\n",
              "      <td>4028E4-C5384</td>\n",
              "      <td>NO APPARENT INJURY</td>\n",
              "      <td>BACKUP DUE TO REGULAR CONGESTION, SLEET, HAIL,...</td>\n",
              "      <td>MD</td>\n",
              "      <td>67644F-64EF8</td>\n",
              "      <td>DISABLING</td>\n",
              "      <td>TWELVE OCLOCK</td>\n",
              "      <td>TWELVE OCLOCK</td>\n",
              "      <td>PASSENGER CAR</td>\n",
              "      <td>ACCELERATING</td>\n",
              "      <td>South</td>\n",
              "      <td>South</td>\n",
              "      <td>25</td>\n",
              "      <td>No</td>\n",
              "      <td>Yes</td>\n",
              "      <td>2018</td>\n",
              "      <td>FORD</td>\n",
              "      <td>FIESTA</td>\n",
              "      <td>NO MISUSE</td>\n",
              "      <td>39.068913</td>\n",
              "      <td>-77.063227</td>\n",
              "      <td>3.0862 7.324</td>\n",
              "      <td>1</td>\n",
              "    </tr>\n",
              "    <tr>\n",
              "      <th>2</th>\n",
              "      <td>MP070N</td>\n",
              "      <td>10103</td>\n",
              "      <td>Montgomery County Police</td>\n",
              "      <td>Property Damage Crash</td>\n",
              "      <td>06/11/2017 08:21:00 AM</td>\n",
              "      <td>Maryland (State)</td>\n",
              "      <td>COLESVILLE RD</td>\n",
              "      <td>Maryland (State)</td>\n",
              "      <td>STRUC #15082</td>\n",
              "      <td>NaN</td>\n",
              "      <td>NaN</td>\n",
              "      <td>NaN</td>\n",
              "      <td>SAME DIRECTION RIGHT TURN</td>\n",
              "      <td>CLEAR</td>\n",
              "      <td>DRY</td>\n",
              "      <td>UNKNOWN</td>\n",
              "      <td>OTHER</td>\n",
              "      <td>NaN</td>\n",
              "      <td>NaN</td>\n",
              "      <td>889DBD-D57FF</td>\n",
              "      <td>NO APPARENT INJURY</td>\n",
              "      <td>NaN</td>\n",
              "      <td>DC</td>\n",
              "      <td>30F7A9-92C98</td>\n",
              "      <td>SUPERFICIAL</td>\n",
              "      <td>SIX OCLOCK</td>\n",
              "      <td>SIX OCLOCK</td>\n",
              "      <td>TRANSIT BUS</td>\n",
              "      <td>PARKING</td>\n",
              "      <td>West</td>\n",
              "      <td>West</td>\n",
              "      <td>35</td>\n",
              "      <td>No</td>\n",
              "      <td>No</td>\n",
              "      <td>2016</td>\n",
              "      <td>NEW FLYER</td>\n",
              "      <td>TBU</td>\n",
              "      <td>NO MISUSE</td>\n",
              "      <td>38.993578</td>\n",
              "      <td>-77.032718</td>\n",
              "      <td>3.9583 7.3783</td>\n",
              "      <td>0</td>\n",
              "    </tr>\n",
              "    <tr>\n",
              "      <th>3</th>\n",
              "      <td>MP130Y</td>\n",
              "      <td>10208</td>\n",
              "      <td>Montgomery County Police</td>\n",
              "      <td>Injury Crash</td>\n",
              "      <td>05/10/2019 07:30:00 AM</td>\n",
              "      <td>County</td>\n",
              "      <td>PARKLAND DR</td>\n",
              "      <td>County</td>\n",
              "      <td>FRANKFORT DR</td>\n",
              "      <td>NaN</td>\n",
              "      <td>NaN</td>\n",
              "      <td>NaN</td>\n",
              "      <td>OTHER</td>\n",
              "      <td>CLOUDY</td>\n",
              "      <td>DRY</td>\n",
              "      <td>DAYLIGHT</td>\n",
              "      <td>NO CONTROLS</td>\n",
              "      <td>NONE DETECTED</td>\n",
              "      <td>NaN</td>\n",
              "      <td>77155D-96AA7</td>\n",
              "      <td>POSSIBLE INJURY</td>\n",
              "      <td>NaN</td>\n",
              "      <td>MD</td>\n",
              "      <td>0F0C58-8E98F</td>\n",
              "      <td>FUNCTIONAL</td>\n",
              "      <td>TWELVE OCLOCK</td>\n",
              "      <td>TWO OCLOCK</td>\n",
              "      <td>PASSENGER CAR</td>\n",
              "      <td>MOVING CONSTANT SPEED</td>\n",
              "      <td>South</td>\n",
              "      <td>South</td>\n",
              "      <td>25</td>\n",
              "      <td>No</td>\n",
              "      <td>No</td>\n",
              "      <td>2001</td>\n",
              "      <td>CHEV</td>\n",
              "      <td>SUBURBAN</td>\n",
              "      <td>OTHER</td>\n",
              "      <td>39.083480</td>\n",
              "      <td>-77.086933</td>\n",
              "      <td>3.84,-70633</td>\n",
              "      <td>1</td>\n",
              "    </tr>\n",
              "    <tr>\n",
              "      <th>4</th>\n",
              "      <td>MP770Y</td>\n",
              "      <td>1091</td>\n",
              "      <td>Montgomery County Police</td>\n",
              "      <td>Injury Crash</td>\n",
              "      <td>08/02/2016 05:00:00 PM</td>\n",
              "      <td>Maryland (State)</td>\n",
              "      <td>OLD GEORGETOWN RD</td>\n",
              "      <td>County</td>\n",
              "      <td>MCKINLEY ST</td>\n",
              "      <td>NaN</td>\n",
              "      <td>NaN</td>\n",
              "      <td>NaN</td>\n",
              "      <td>SAME DIR REAR END</td>\n",
              "      <td>CLEAR</td>\n",
              "      <td>DRY</td>\n",
              "      <td>DAYLIGHT</td>\n",
              "      <td>TRAFFIC SIGNAL</td>\n",
              "      <td>NONE DETECTED</td>\n",
              "      <td>MEDICATION PRESENT</td>\n",
              "      <td>5E180B-42B0C</td>\n",
              "      <td>SUSPECTED MINOR INJURY</td>\n",
              "      <td>NaN</td>\n",
              "      <td>MD</td>\n",
              "      <td>4397C0-AEE83</td>\n",
              "      <td>DISABLING</td>\n",
              "      <td>SIX OCLOCK</td>\n",
              "      <td>SIX OCLOCK</td>\n",
              "      <td>PASSENGER CAR</td>\n",
              "      <td>SLOWING OR STOPPING</td>\n",
              "      <td>South</td>\n",
              "      <td>South</td>\n",
              "      <td>40</td>\n",
              "      <td>No</td>\n",
              "      <td>No</td>\n",
              "      <td>2013</td>\n",
              "      <td>KIA</td>\n",
              "      <td>RIO</td>\n",
              "      <td>NO MISUSE</td>\n",
              "      <td>38.996942</td>\n",
              "      <td>-77.109168</td>\n",
              "      <td>3.9917 7.0183</td>\n",
              "      <td>0</td>\n",
              "    </tr>\n",
              "  </tbody>\n",
              "</table>\n",
              "</div>"
            ],
            "text/plain": [
              "  Report Number Local Case Number  ...       Location Fault\n",
              "0        MP060D             10196  ...  3.6383 7.4233     1\n",
              "1        MP000X             20080  ...   3.0862 7.324     1\n",
              "2        MP070N             10103  ...  3.9583 7.3783     0\n",
              "3        MP130Y             10208  ...    3.84,-70633     1\n",
              "4        MP770Y              1091  ...  3.9917 7.0183     0\n",
              "\n",
              "[5 rows x 42 columns]"
            ]
          },
          "execution_count": 531,
          "metadata": {},
          "output_type": "execute_result"
        }
      ],
      "source": [
        "df = pd.read_csv('train.csv')\n",
        "df.head()"
      ]
    },
    {
      "cell_type": "code",
      "execution_count": null,
      "id": "58c522f8",
      "metadata": {
        "colab": {
          "base_uri": "https://localhost:8080/",
          "height": 530
        },
        "id": "58c522f8",
        "outputId": "581be6be-61d1-41bc-cc4f-8b83fef9639f"
      },
      "outputs": [
        {
          "name": "stderr",
          "output_type": "stream",
          "text": [
            "/usr/local/lib/python3.7/dist-packages/IPython/core/interactiveshell.py:2718: DtypeWarning: Columns (2) have mixed types.Specify dtype option on import or set low_memory=False.\n",
            "  interactivity=interactivity, compiler=compiler, result=result)\n"
          ]
        },
        {
          "data": {
            "text/html": [
              "<div>\n",
              "<style scoped>\n",
              "    .dataframe tbody tr th:only-of-type {\n",
              "        vertical-align: middle;\n",
              "    }\n",
              "\n",
              "    .dataframe tbody tr th {\n",
              "        vertical-align: top;\n",
              "    }\n",
              "\n",
              "    .dataframe thead th {\n",
              "        text-align: right;\n",
              "    }\n",
              "</style>\n",
              "<table border=\"1\" class=\"dataframe\">\n",
              "  <thead>\n",
              "    <tr style=\"text-align: right;\">\n",
              "      <th></th>\n",
              "      <th>Id</th>\n",
              "      <th>Report Number</th>\n",
              "      <th>Local Case Number</th>\n",
              "      <th>Agency Name</th>\n",
              "      <th>ACRS Report Type</th>\n",
              "      <th>Crash Date/Time</th>\n",
              "      <th>Route Type</th>\n",
              "      <th>Road Name</th>\n",
              "      <th>Cross-Street Type</th>\n",
              "      <th>Cross-Street Name</th>\n",
              "      <th>Off-Road Description</th>\n",
              "      <th>Municipality</th>\n",
              "      <th>Related Non-Motorist</th>\n",
              "      <th>Collision Type</th>\n",
              "      <th>Weather</th>\n",
              "      <th>Surface Condition</th>\n",
              "      <th>Light</th>\n",
              "      <th>Traffic Control</th>\n",
              "      <th>Driver Substance Abuse</th>\n",
              "      <th>Non-Motorist Substance Abuse</th>\n",
              "      <th>Person ID</th>\n",
              "      <th>Injury Severity</th>\n",
              "      <th>Circumstance</th>\n",
              "      <th>Drivers License State</th>\n",
              "      <th>Vehicle ID</th>\n",
              "      <th>Vehicle Damage Extent</th>\n",
              "      <th>Vehicle First Impact Location</th>\n",
              "      <th>Vehicle Second Impact Location</th>\n",
              "      <th>Vehicle Body Type</th>\n",
              "      <th>Vehicle Movement</th>\n",
              "      <th>Vehicle Continuing Dir</th>\n",
              "      <th>Vehicle Going Dir</th>\n",
              "      <th>Speed Limit</th>\n",
              "      <th>Driverless Vehicle</th>\n",
              "      <th>Parked Vehicle</th>\n",
              "      <th>Vehicle Year</th>\n",
              "      <th>Vehicle Make</th>\n",
              "      <th>Vehicle Model</th>\n",
              "      <th>Equipment Problems</th>\n",
              "      <th>Latitude</th>\n",
              "      <th>Longitude</th>\n",
              "      <th>Location</th>\n",
              "    </tr>\n",
              "  </thead>\n",
              "  <tbody>\n",
              "    <tr>\n",
              "      <th>0</th>\n",
              "      <td>0</td>\n",
              "      <td>MP810M</td>\n",
              "      <td>NaN</td>\n",
              "      <td>MONTGOMERY</td>\n",
              "      <td>Property Damage Crash</td>\n",
              "      <td>12/16/2015 05:42:00 PM</td>\n",
              "      <td>County</td>\n",
              "      <td>WHITTIER BLVD</td>\n",
              "      <td>Maryland (State)</td>\n",
              "      <td>WILSON LA</td>\n",
              "      <td>NaN</td>\n",
              "      <td>NaN</td>\n",
              "      <td>NaN</td>\n",
              "      <td>OTHER</td>\n",
              "      <td>CLEAR</td>\n",
              "      <td>DRY</td>\n",
              "      <td>DARK LIGHTS ON</td>\n",
              "      <td>TRAFFIC SIGNAL</td>\n",
              "      <td>ALCOHOL CONTRIBUTED</td>\n",
              "      <td>NaN</td>\n",
              "      <td>F05A35-C3C98</td>\n",
              "      <td>NO APPARENT INJURY</td>\n",
              "      <td>NaN</td>\n",
              "      <td>MD</td>\n",
              "      <td>DA635F-C3055</td>\n",
              "      <td>FUNCTIONAL</td>\n",
              "      <td>ELEVEN OCLOCK</td>\n",
              "      <td>ELEVEN OCLOCK</td>\n",
              "      <td>PASSENGER CAR</td>\n",
              "      <td>MAKING RIGHT TURN</td>\n",
              "      <td>North</td>\n",
              "      <td>North</td>\n",
              "      <td>25</td>\n",
              "      <td>No</td>\n",
              "      <td>No</td>\n",
              "      <td>2004</td>\n",
              "      <td>LEXUS</td>\n",
              "      <td>RX330</td>\n",
              "      <td>NO MISUSE</td>\n",
              "      <td>38.988440</td>\n",
              "      <td>-77.127668</td>\n",
              "      <td>3.84,-71763</td>\n",
              "    </tr>\n",
              "    <tr>\n",
              "      <th>1</th>\n",
              "      <td>1</td>\n",
              "      <td>MP2001</td>\n",
              "      <td>NaN</td>\n",
              "      <td>Montgomery County Police</td>\n",
              "      <td>Property Damage Crash</td>\n",
              "      <td>05/01/2016 07:25:00 PM</td>\n",
              "      <td>County</td>\n",
              "      <td>RAILROAD ST</td>\n",
              "      <td>Municipality</td>\n",
              "      <td>E DIAMOND AVE</td>\n",
              "      <td>NaN</td>\n",
              "      <td>GAITHERSBURG</td>\n",
              "      <td>NaN</td>\n",
              "      <td>SAME DIR REAR END</td>\n",
              "      <td>RAINING</td>\n",
              "      <td>WET</td>\n",
              "      <td>DAYLIGHT</td>\n",
              "      <td>TRAFFIC SIGNAL</td>\n",
              "      <td>NONE DETECTED</td>\n",
              "      <td>NaN</td>\n",
              "      <td>79C1D8-6A412</td>\n",
              "      <td>NO APPARENT INJURY</td>\n",
              "      <td>RAIN, SNOW, WET</td>\n",
              "      <td>MD</td>\n",
              "      <td>DBC8E9-FC340</td>\n",
              "      <td>SUPERFICIAL</td>\n",
              "      <td>SIX OCLOCK</td>\n",
              "      <td>SIX OCLOCK</td>\n",
              "      <td>PASSENGER CAR</td>\n",
              "      <td>STOPPED IN TRAFFIC LANE</td>\n",
              "      <td>South</td>\n",
              "      <td>West</td>\n",
              "      <td>25</td>\n",
              "      <td>No</td>\n",
              "      <td>No</td>\n",
              "      <td>2001</td>\n",
              "      <td>MITSUBISHI</td>\n",
              "      <td>MIRAGE</td>\n",
              "      <td>NO MISUSE</td>\n",
              "      <td>39.094075</td>\n",
              "      <td>-77.205783</td>\n",
              "      <td>3.905 7.0733</td>\n",
              "    </tr>\n",
              "    <tr>\n",
              "      <th>2</th>\n",
              "      <td>2</td>\n",
              "      <td>MP6404</td>\n",
              "      <td>10125</td>\n",
              "      <td>Montgomery County Police</td>\n",
              "      <td>Property Damage Crash</td>\n",
              "      <td>03/16/2018 02:30:00 PM</td>\n",
              "      <td>Maryland (State)</td>\n",
              "      <td>GEORGIA AVE</td>\n",
              "      <td>County</td>\n",
              "      <td>ARCOLA AVE</td>\n",
              "      <td>NaN</td>\n",
              "      <td>NaN</td>\n",
              "      <td>NaN</td>\n",
              "      <td>SAME DIRECTION SIDESWIPE</td>\n",
              "      <td>NaN</td>\n",
              "      <td>DRY</td>\n",
              "      <td>DAYLIGHT</td>\n",
              "      <td>TRAFFIC SIGNAL</td>\n",
              "      <td>NONE DETECTED</td>\n",
              "      <td>NaN</td>\n",
              "      <td>30EC44-418A7</td>\n",
              "      <td>NO APPARENT INJURY</td>\n",
              "      <td>NaN</td>\n",
              "      <td>MD</td>\n",
              "      <td>32DA16-845E9</td>\n",
              "      <td>NO DAMAGE</td>\n",
              "      <td>TWO OCLOCK</td>\n",
              "      <td>TWO OCLOCK</td>\n",
              "      <td>AMBULANCE/EMERGENCY</td>\n",
              "      <td>MOVING CONSTANT SPEED</td>\n",
              "      <td>North</td>\n",
              "      <td>North</td>\n",
              "      <td>35</td>\n",
              "      <td>No</td>\n",
              "      <td>No</td>\n",
              "      <td>2016</td>\n",
              "      <td>FRIEGHTLINER</td>\n",
              "      <td>AMBULANCE</td>\n",
              "      <td>NO MISUSE</td>\n",
              "      <td>39.047180</td>\n",
              "      <td>-77.052688</td>\n",
              "      <td>3.41,-70283</td>\n",
              "    </tr>\n",
              "    <tr>\n",
              "      <th>3</th>\n",
              "      <td>3</td>\n",
              "      <td>MP0405</td>\n",
              "      <td>10270</td>\n",
              "      <td>Montgomery County Police</td>\n",
              "      <td>Property Damage Crash</td>\n",
              "      <td>05/25/2018 05:00:00 PM</td>\n",
              "      <td>NaN</td>\n",
              "      <td>NaN</td>\n",
              "      <td>NaN</td>\n",
              "      <td>NaN</td>\n",
              "      <td>19600 FREDERICK RD, PAWN SHOP PARKING LOT</td>\n",
              "      <td>NaN</td>\n",
              "      <td>NaN</td>\n",
              "      <td>SAME DIRECTION SIDESWIPE</td>\n",
              "      <td>CLEAR</td>\n",
              "      <td>NaN</td>\n",
              "      <td>DAYLIGHT</td>\n",
              "      <td>NO CONTROLS</td>\n",
              "      <td>NaN</td>\n",
              "      <td>NaN</td>\n",
              "      <td>C7FA23-4267E</td>\n",
              "      <td>NO APPARENT INJURY</td>\n",
              "      <td>NaN</td>\n",
              "      <td>MD</td>\n",
              "      <td>4DC569-AB8EA</td>\n",
              "      <td>DISABLING</td>\n",
              "      <td>TWELVE OCLOCK</td>\n",
              "      <td>TWELVE OCLOCK</td>\n",
              "      <td>PASSENGER CAR</td>\n",
              "      <td>ACCELERATING</td>\n",
              "      <td>West</td>\n",
              "      <td>West</td>\n",
              "      <td>25</td>\n",
              "      <td>No</td>\n",
              "      <td>No</td>\n",
              "      <td>2004</td>\n",
              "      <td>FORD</td>\n",
              "      <td>CN</td>\n",
              "      <td>NaN</td>\n",
              "      <td>39.178007</td>\n",
              "      <td>-77.238475</td>\n",
              "      <td>3.7067 7.345</td>\n",
              "    </tr>\n",
              "    <tr>\n",
              "      <th>4</th>\n",
              "      <td>4</td>\n",
              "      <td>MP090D</td>\n",
              "      <td>10374</td>\n",
              "      <td>Montgomery County Police</td>\n",
              "      <td>Property Damage Crash</td>\n",
              "      <td>09/23/2017 05:40:00 PM</td>\n",
              "      <td>Interstate (State)</td>\n",
              "      <td>EISENHOWER MEMORIAL HWY</td>\n",
              "      <td>Maryland (State)</td>\n",
              "      <td>MONTROSE RD</td>\n",
              "      <td>NaN</td>\n",
              "      <td>NaN</td>\n",
              "      <td>NaN</td>\n",
              "      <td>OTHER</td>\n",
              "      <td>CLEAR</td>\n",
              "      <td>DRY</td>\n",
              "      <td>DAYLIGHT</td>\n",
              "      <td>NO CONTROLS</td>\n",
              "      <td>UNKNOWN</td>\n",
              "      <td>NaN</td>\n",
              "      <td>B6023B-A34FF</td>\n",
              "      <td>NO APPARENT INJURY</td>\n",
              "      <td>NaN</td>\n",
              "      <td>NaN</td>\n",
              "      <td>B3BD7B-487E4</td>\n",
              "      <td>SUPERFICIAL</td>\n",
              "      <td>NINE OCLOCK</td>\n",
              "      <td>NINE OCLOCK</td>\n",
              "      <td>MEDIUM/HEAVY TRUCKS 3 AXLES (OVER 10,000LBS (4...</td>\n",
              "      <td>CHANGING LANES</td>\n",
              "      <td>North</td>\n",
              "      <td>North</td>\n",
              "      <td>55</td>\n",
              "      <td>No</td>\n",
              "      <td>No</td>\n",
              "      <td>2008</td>\n",
              "      <td>UTIL</td>\n",
              "      <td>TL</td>\n",
              "      <td>UNKNOWN</td>\n",
              "      <td>39.056134</td>\n",
              "      <td>-77.154043</td>\n",
              "      <td>3.5143 7.5022</td>\n",
              "    </tr>\n",
              "  </tbody>\n",
              "</table>\n",
              "</div>"
            ],
            "text/plain": [
              "   Id Report Number Local Case Number  ...   Latitude  Longitude       Location\n",
              "0   0        MP810M               NaN  ...  38.988440 -77.127668    3.84,-71763\n",
              "1   1        MP2001               NaN  ...  39.094075 -77.205783   3.905 7.0733\n",
              "2   2        MP6404             10125  ...  39.047180 -77.052688    3.41,-70283\n",
              "3   3        MP0405             10270  ...  39.178007 -77.238475   3.7067 7.345\n",
              "4   4        MP090D             10374  ...  39.056134 -77.154043  3.5143 7.5022\n",
              "\n",
              "[5 rows x 42 columns]"
            ]
          },
          "execution_count": 532,
          "metadata": {},
          "output_type": "execute_result"
        }
      ],
      "source": [
        "test_df = pd.read_csv('test.csv')\n",
        "test_df.head()"
      ]
    },
    {
      "cell_type": "code",
      "execution_count": null,
      "id": "9LpwOIZNJoiR",
      "metadata": {
        "colab": {
          "base_uri": "https://localhost:8080/"
        },
        "id": "9LpwOIZNJoiR",
        "outputId": "e18b01cb-e5f0-4c33-fb40-8cd734d6ff30"
      },
      "outputs": [
        {
          "data": {
            "text/plain": [
              "2047     1\n",
              "53903    1\n",
              "8849     1\n",
              "14994    1\n",
              "12947    1\n",
              "        ..\n",
              "32101    1\n",
              "25958    1\n",
              "28007    1\n",
              "5480     1\n",
              "0        1\n",
              "Name: Id, Length: 77235, dtype: int64"
            ]
          },
          "execution_count": 533,
          "metadata": {},
          "output_type": "execute_result"
        }
      ],
      "source": [
        "ID = test_df['Id']\n",
        "test_df['Id'].value_counts()\n",
        "# test_df.drop('Id', axis = 1, inplace = True)"
      ]
    },
    {
      "cell_type": "markdown",
      "id": "4521a2aa",
      "metadata": {
        "id": "4521a2aa"
      },
      "source": [
        "## Pre-processing the dataset"
      ]
    },
    {
      "cell_type": "code",
      "execution_count": null,
      "id": "5359c240",
      "metadata": {
        "colab": {
          "base_uri": "https://localhost:8080/"
        },
        "id": "5359c240",
        "outputId": "2a05509d-74db-4e5e-bb8f-caee6e413da7"
      },
      "outputs": [
        {
          "name": "stdout",
          "output_type": "stream",
          "text": [
            "<class 'pandas.core.frame.DataFrame'>\n",
            "RangeIndex: 51490 entries, 0 to 51489\n",
            "Data columns (total 42 columns):\n",
            " #   Column                          Non-Null Count  Dtype  \n",
            "---  ------                          --------------  -----  \n",
            " 0   Report Number                   51490 non-null  object \n",
            " 1   Local Case Number               45037 non-null  object \n",
            " 2   Agency Name                     51490 non-null  object \n",
            " 3   ACRS Report Type                51490 non-null  object \n",
            " 4   Crash Date/Time                 51490 non-null  object \n",
            " 5   Route Type                      46522 non-null  object \n",
            " 6   Road Name                       46988 non-null  object \n",
            " 7   Cross-Street Type               46471 non-null  object \n",
            " 8   Cross-Street Name               46968 non-null  object \n",
            " 9   Off-Road Description            6950 non-null   object \n",
            " 10  Municipality                    7567 non-null   object \n",
            " 11  Related Non-Motorist            3648 non-null   object \n",
            " 12  Collision Type                  51191 non-null  object \n",
            " 13  Weather                         47461 non-null  object \n",
            " 14  Surface Condition               45611 non-null  object \n",
            " 15  Light                           50786 non-null  object \n",
            " 16  Traffic Control                 43716 non-null  object \n",
            " 17  Driver Substance Abuse          42395 non-null  object \n",
            " 18  Non-Motorist Substance Abuse    3384 non-null   object \n",
            " 19  Person ID                       51490 non-null  object \n",
            " 20  Injury Severity                 51490 non-null  object \n",
            " 21  Circumstance                    11752 non-null  object \n",
            " 22  Drivers License State           48962 non-null  object \n",
            " 23  Vehicle ID                      51490 non-null  object \n",
            " 24  Vehicle Damage Extent           51093 non-null  object \n",
            " 25  Vehicle First Impact Location   51268 non-null  object \n",
            " 26  Vehicle Second Impact Location  51256 non-null  object \n",
            " 27  Vehicle Body Type               50705 non-null  object \n",
            " 28  Vehicle Movement                51292 non-null  object \n",
            " 29  Vehicle Continuing Dir          50361 non-null  object \n",
            " 30  Vehicle Going Dir               50377 non-null  object \n",
            " 31  Speed Limit                     51490 non-null  int64  \n",
            " 32  Driverless Vehicle              51490 non-null  object \n",
            " 33  Parked Vehicle                  51490 non-null  object \n",
            " 34  Vehicle Year                    51490 non-null  int64  \n",
            " 35  Vehicle Make                    51482 non-null  object \n",
            " 36  Vehicle Model                   51471 non-null  object \n",
            " 37  Equipment Problems              40824 non-null  object \n",
            " 38  Latitude                        51490 non-null  float64\n",
            " 39  Longitude                       51490 non-null  float64\n",
            " 40  Location                        51490 non-null  object \n",
            " 41  Fault                           51490 non-null  int64  \n",
            "dtypes: float64(2), int64(3), object(37)\n",
            "memory usage: 16.5+ MB\n"
          ]
        }
      ],
      "source": [
        "df.info()"
      ]
    },
    {
      "cell_type": "code",
      "execution_count": null,
      "id": "3cba2ab1",
      "metadata": {
        "id": "3cba2ab1"
      },
      "outputs": [],
      "source": [
        "df['Crash Date/Time'] = pd.to_datetime(df['Crash Date/Time'])\n",
        "df['year'] = df['Crash Date/Time'].dt.year\n",
        "df['month'] = df['Crash Date/Time'].dt.month\n",
        "df['date'] = df['Crash Date/Time'].dt.day\n",
        "df['day'] = df['Crash Date/Time'].dt.dayofweek\n",
        "df['hour'] = df['Crash Date/Time'].dt.hour\n",
        "df.drop('Crash Date/Time', axis = 1, inplace = True)"
      ]
    },
    {
      "cell_type": "code",
      "execution_count": null,
      "id": "b77qU0Yk5mpi",
      "metadata": {
        "id": "b77qU0Yk5mpi"
      },
      "outputs": [],
      "source": [
        "test_df['Crash Date/Time'] = pd.to_datetime(test_df['Crash Date/Time'])\n",
        "test_df['year'] = test_df['Crash Date/Time'].dt.year\n",
        "test_df['month'] = test_df['Crash Date/Time'].dt.month\n",
        "test_df['date'] = test_df['Crash Date/Time'].dt.day\n",
        "test_df['day'] = test_df['Crash Date/Time'].dt.dayofweek\n",
        "test_df['hour'] = test_df['Crash Date/Time'].dt.hour\n",
        "test_df.drop('Crash Date/Time', axis = 1, inplace = True)"
      ]
    },
    {
      "cell_type": "code",
      "execution_count": null,
      "id": "L2cOqIkR55qq",
      "metadata": {
        "colab": {
          "base_uri": "https://localhost:8080/"
        },
        "id": "L2cOqIkR55qq",
        "outputId": "b66f4cf2-0064-45c3-9178-bcab0b9b90f6"
      },
      "outputs": [
        {
          "data": {
            "text/plain": [
              "Id                                    0\n",
              "Report Number                         0\n",
              "Local Case Number                 10073\n",
              "Agency Name                           0\n",
              "ACRS Report Type                      0\n",
              "Route Type                         7467\n",
              "Road Name                          7069\n",
              "Cross-Street Type                  7480\n",
              "Cross-Street Name                  7071\n",
              "Off-Road Description              70166\n",
              "Municipality                      68737\n",
              "Related Non-Motorist              74987\n",
              "Collision Type                      245\n",
              "Weather                            5996\n",
              "Surface Condition                  9053\n",
              "Light                               620\n",
              "Traffic Control                   12050\n",
              "Driver Substance Abuse            14083\n",
              "Non-Motorist Substance Abuse      75458\n",
              "Person ID                             0\n",
              "Injury Severity                       0\n",
              "Circumstance                      62690\n",
              "Drivers License State              3920\n",
              "Vehicle ID                            0\n",
              "Vehicle Damage Extent               136\n",
              "Vehicle First Impact Location        81\n",
              "Vehicle Second Impact Location      139\n",
              "Vehicle Body Type                  1107\n",
              "Vehicle Movement                    153\n",
              "Vehicle Continuing Dir             1201\n",
              "Vehicle Going Dir                  1201\n",
              "Speed Limit                           0\n",
              "Driverless Vehicle                    0\n",
              "Parked Vehicle                        0\n",
              "Vehicle Year                          0\n",
              "Vehicle Make                         13\n",
              "Vehicle Model                        34\n",
              "Equipment Problems                16424\n",
              "Latitude                              0\n",
              "Longitude                             0\n",
              "Location                              0\n",
              "year                                  0\n",
              "month                                 0\n",
              "date                                  0\n",
              "day                                   0\n",
              "hour                                  0\n",
              "dtype: int64"
            ]
          },
          "execution_count": 537,
          "metadata": {},
          "output_type": "execute_result"
        }
      ],
      "source": [
        "test_df.isnull().sum()"
      ]
    },
    {
      "cell_type": "code",
      "execution_count": null,
      "id": "21c554e4",
      "metadata": {
        "id": "21c554e4"
      },
      "outputs": [],
      "source": [
        "unique, counts = np.unique(df['Report Number'], return_counts = True)"
      ]
    },
    {
      "cell_type": "code",
      "execution_count": null,
      "id": "d4ace656",
      "metadata": {
        "colab": {
          "base_uri": "https://localhost:8080/"
        },
        "id": "d4ace656",
        "outputId": "f05fe0ac-5453-4eac-9cb2-005cf646c92d"
      },
      "outputs": [
        {
          "data": {
            "text/plain": [
              "51490"
            ]
          },
          "execution_count": 539,
          "metadata": {},
          "output_type": "execute_result"
        }
      ],
      "source": [
        "counts.sum()"
      ]
    },
    {
      "cell_type": "code",
      "execution_count": null,
      "id": "b74388a9",
      "metadata": {
        "colab": {
          "base_uri": "https://localhost:8080/"
        },
        "id": "b74388a9",
        "outputId": "f512413d-3ce1-4d49-a9a6-d7a344fb6005"
      },
      "outputs": [
        {
          "data": {
            "text/plain": [
              "(51490, 45)"
            ]
          },
          "execution_count": 540,
          "metadata": {},
          "output_type": "execute_result"
        }
      ],
      "source": [
        "df.drop('Report Number', axis = 1, inplace=True)\n",
        "df.shape"
      ]
    },
    {
      "cell_type": "code",
      "execution_count": null,
      "id": "wOdQTCiW6j8a",
      "metadata": {
        "colab": {
          "base_uri": "https://localhost:8080/"
        },
        "id": "wOdQTCiW6j8a",
        "outputId": "60920229-7bcc-490b-b15c-537a1f857731"
      },
      "outputs": [
        {
          "data": {
            "text/plain": [
              "(77235, 45)"
            ]
          },
          "execution_count": 541,
          "metadata": {},
          "output_type": "execute_result"
        }
      ],
      "source": [
        "test_df.drop('Report Number', axis = 1, inplace=True)\n",
        "test_df.shape"
      ]
    },
    {
      "cell_type": "code",
      "execution_count": null,
      "id": "a9bd6ef0",
      "metadata": {
        "id": "a9bd6ef0"
      },
      "outputs": [],
      "source": [
        "df.drop('Local Case Number', axis = 1, inplace=True)"
      ]
    },
    {
      "cell_type": "code",
      "execution_count": null,
      "id": "869e1ec5",
      "metadata": {
        "colab": {
          "base_uri": "https://localhost:8080/"
        },
        "id": "869e1ec5",
        "outputId": "412ac4dd-d0ef-439a-ddc2-8af151de8128"
      },
      "outputs": [
        {
          "data": {
            "text/plain": [
              "(51490, 44)"
            ]
          },
          "execution_count": 543,
          "metadata": {},
          "output_type": "execute_result"
        }
      ],
      "source": [
        "df.shape"
      ]
    },
    {
      "cell_type": "code",
      "execution_count": null,
      "id": "8snVMSUP6t0Q",
      "metadata": {
        "colab": {
          "base_uri": "https://localhost:8080/"
        },
        "id": "8snVMSUP6t0Q",
        "outputId": "c21591af-9d84-45ec-91fe-d0d0b16e6fdf"
      },
      "outputs": [
        {
          "data": {
            "text/plain": [
              "(77235, 44)"
            ]
          },
          "execution_count": 544,
          "metadata": {},
          "output_type": "execute_result"
        }
      ],
      "source": [
        "test_df.drop('Local Case Number', axis = 1, inplace=True)\n",
        "test_df.shape"
      ]
    },
    {
      "cell_type": "code",
      "execution_count": null,
      "id": "d28995a8",
      "metadata": {
        "colab": {
          "base_uri": "https://localhost:8080/"
        },
        "id": "d28995a8",
        "outputId": "99903700-f6fd-4538-d58c-23cde7a107f5"
      },
      "outputs": [
        {
          "data": {
            "text/plain": [
              "Maryland (State)        22482\n",
              "County                  16059\n",
              "Municipality             2840\n",
              "US (State)               2291\n",
              "Interstate (State)       1145\n",
              "Other Public Roadway      489\n",
              "Ramp                      398\n",
              "Government                390\n",
              "Service Road              218\n",
              "Unknown                   210\n",
              "Name: Route Type, dtype: int64"
            ]
          },
          "execution_count": 545,
          "metadata": {},
          "output_type": "execute_result"
        }
      ],
      "source": [
        "df['Route Type'].value_counts()"
      ]
    },
    {
      "cell_type": "code",
      "execution_count": null,
      "id": "467a64ab",
      "metadata": {
        "colab": {
          "base_uri": "https://localhost:8080/"
        },
        "id": "467a64ab",
        "outputId": "31a4ae3f-ee3c-48a1-80e0-f9198b6dae3f"
      },
      "outputs": [
        {
          "data": {
            "text/plain": [
              "count                51490\n",
              "unique                  10\n",
              "top       Maryland (State)\n",
              "freq                 27450\n",
              "Name: Route Type, dtype: object"
            ]
          },
          "execution_count": 546,
          "metadata": {},
          "output_type": "execute_result"
        }
      ],
      "source": [
        "df['Route Type'] = df['Route Type'].fillna(df['Route Type'].mode()[0])\n",
        "df['Route Type'].describe()"
      ]
    },
    {
      "cell_type": "code",
      "execution_count": null,
      "id": "Pfm_gkDX607s",
      "metadata": {
        "id": "Pfm_gkDX607s"
      },
      "outputs": [],
      "source": [
        "test_df['Route Type'] = test_df['Route Type'].fillna(test_df['Route Type'].mode()[0])"
      ]
    },
    {
      "cell_type": "code",
      "execution_count": null,
      "id": "e287d1b1",
      "metadata": {
        "colab": {
          "base_uri": "https://localhost:8080/"
        },
        "id": "e287d1b1",
        "outputId": "056f558e-860f-4336-d0b1-cee6f365501a"
      },
      "outputs": [
        {
          "data": {
            "text/plain": [
              "count           51490\n",
              "unique           2226\n",
              "top       GEORGIA AVE\n",
              "freq             7624\n",
              "Name: Road Name, dtype: object"
            ]
          },
          "execution_count": 548,
          "metadata": {},
          "output_type": "execute_result"
        }
      ],
      "source": [
        "df['Road Name'] = df['Road Name'].fillna(df['Road Name'].mode()[0])\n",
        "df['Road Name'].describe()"
      ]
    },
    {
      "cell_type": "code",
      "execution_count": null,
      "id": "QnzuGr8E7OxA",
      "metadata": {
        "id": "QnzuGr8E7OxA"
      },
      "outputs": [],
      "source": [
        "test_df['Road Name'] = test_df['Road Name'].fillna(test_df['Road Name'].mode()[0])"
      ]
    },
    {
      "cell_type": "code",
      "execution_count": null,
      "id": "2303518d",
      "metadata": {
        "colab": {
          "base_uri": "https://localhost:8080/"
        },
        "id": "2303518d",
        "outputId": "395a3f8f-209f-41e8-c8c3-a5307c1b308b"
      },
      "outputs": [
        {
          "data": {
            "text/plain": [
              "count      51490\n",
              "unique        10\n",
              "top       County\n",
              "freq       29713\n",
              "Name: Cross-Street Type, dtype: object"
            ]
          },
          "execution_count": 550,
          "metadata": {},
          "output_type": "execute_result"
        }
      ],
      "source": [
        "df['Cross-Street Type'] = df['Cross-Street Type'].fillna(df['Cross-Street Type'].mode()[0])\n",
        "df['Cross-Street Type'].describe()"
      ]
    },
    {
      "cell_type": "code",
      "execution_count": null,
      "id": "-BjKaq7R7Ret",
      "metadata": {
        "id": "-BjKaq7R7Ret"
      },
      "outputs": [],
      "source": [
        "test_df['Cross-Street Type'] = test_df['Cross-Street Type'].fillna(test_df['Cross-Street Type'].mode()[0])"
      ]
    },
    {
      "cell_type": "code",
      "execution_count": null,
      "id": "bc8a17b2",
      "metadata": {
        "colab": {
          "base_uri": "https://localhost:8080/"
        },
        "id": "bc8a17b2",
        "outputId": "1066b4b1-5f24-46c1-faff-2761f868977d"
      },
      "outputs": [
        {
          "data": {
            "text/plain": [
              "count           51490\n",
              "unique           4525\n",
              "top       GEORGIA AVE\n",
              "freq             5138\n",
              "Name: Cross-Street Name, dtype: object"
            ]
          },
          "execution_count": 552,
          "metadata": {},
          "output_type": "execute_result"
        }
      ],
      "source": [
        "df['Cross-Street Name'] = df['Cross-Street Name'].fillna(df['Cross-Street Name'].mode()[0])\n",
        "df['Cross-Street Name'].describe()"
      ]
    },
    {
      "cell_type": "code",
      "execution_count": null,
      "id": "2mK1wzTp7aIs",
      "metadata": {
        "id": "2mK1wzTp7aIs"
      },
      "outputs": [],
      "source": [
        "test_df['Cross-Street Name'] = test_df['Cross-Street Name'].fillna(test_df['Cross-Street Name'].mode()[0])"
      ]
    },
    {
      "cell_type": "code",
      "execution_count": null,
      "id": "5cb41a4e",
      "metadata": {
        "colab": {
          "base_uri": "https://localhost:8080/"
        },
        "id": "5cb41a4e",
        "outputId": "635b27b8-3585-42f7-d286-aa1ffb5e02fd"
      },
      "outputs": [
        {
          "data": {
            "text/plain": [
              "(51490, 43)"
            ]
          },
          "execution_count": 554,
          "metadata": {},
          "output_type": "execute_result"
        }
      ],
      "source": [
        "df.drop('Off-Road Description', axis = 1, inplace = True)\n",
        "df.shape"
      ]
    },
    {
      "cell_type": "code",
      "execution_count": null,
      "id": "L4sJi-el7kXF",
      "metadata": {
        "id": "L4sJi-el7kXF"
      },
      "outputs": [],
      "source": [
        "test_df.drop('Off-Road Description', axis = 1, inplace = True)"
      ]
    },
    {
      "cell_type": "code",
      "execution_count": null,
      "id": "787ee4d7",
      "metadata": {
        "colab": {
          "base_uri": "https://localhost:8080/"
        },
        "id": "787ee4d7",
        "outputId": "4a0b02db-49e0-4cdc-d6d7-641c1a9ddeb8"
      },
      "outputs": [
        {
          "data": {
            "text/plain": [
              "count         51490\n",
              "unique           20\n",
              "top       ROCKVILLE\n",
              "freq          46629\n",
              "Name: Municipality, dtype: object"
            ]
          },
          "execution_count": 556,
          "metadata": {},
          "output_type": "execute_result"
        }
      ],
      "source": [
        "df['Municipality'] = df['Municipality'].fillna(df['Municipality'].mode()[0])\n",
        "df['Municipality'].describe()"
      ]
    },
    {
      "cell_type": "code",
      "execution_count": null,
      "id": "WlOTfWxM7tHT",
      "metadata": {
        "id": "WlOTfWxM7tHT"
      },
      "outputs": [],
      "source": [
        "test_df['Municipality'] = test_df['Municipality'].fillna(test_df['Municipality'].mode()[0]) "
      ]
    },
    {
      "cell_type": "code",
      "execution_count": null,
      "id": "2d3bf3c9",
      "metadata": {
        "id": "2d3bf3c9"
      },
      "outputs": [],
      "source": [
        "df.drop('Related Non-Motorist', axis = 1, inplace = True)"
      ]
    },
    {
      "cell_type": "code",
      "execution_count": null,
      "id": "igrT7T1577OM",
      "metadata": {
        "id": "igrT7T1577OM"
      },
      "outputs": [],
      "source": [
        "test_df.drop('Related Non-Motorist', axis = 1, inplace = True)"
      ]
    },
    {
      "cell_type": "code",
      "execution_count": null,
      "id": "57d046ff",
      "metadata": {
        "colab": {
          "base_uri": "https://localhost:8080/"
        },
        "id": "57d046ff",
        "outputId": "e2f2933b-0c87-443f-980d-ff1af5218e0a"
      },
      "outputs": [
        {
          "data": {
            "text/plain": [
              "(51490, 42)"
            ]
          },
          "execution_count": 560,
          "metadata": {},
          "output_type": "execute_result"
        }
      ],
      "source": [
        "df.shape"
      ]
    },
    {
      "cell_type": "code",
      "execution_count": null,
      "id": "9a37ef13",
      "metadata": {
        "colab": {
          "base_uri": "https://localhost:8080/"
        },
        "id": "9a37ef13",
        "outputId": "b263d528-628a-49a9-b632-30dbf4bb17f5"
      },
      "outputs": [
        {
          "data": {
            "text/plain": [
              "count                 51490\n",
              "unique                   18\n",
              "top       SAME DIR REAR END\n",
              "freq                  17030\n",
              "Name: Collision Type, dtype: object"
            ]
          },
          "execution_count": 561,
          "metadata": {},
          "output_type": "execute_result"
        }
      ],
      "source": [
        "df['Collision Type'] = df['Collision Type'].fillna(df['Collision Type'].mode()[0])\n",
        "df['Collision Type'].describe()"
      ]
    },
    {
      "cell_type": "code",
      "execution_count": null,
      "id": "QktW-ob78Gyg",
      "metadata": {
        "id": "QktW-ob78Gyg"
      },
      "outputs": [],
      "source": [
        "test_df['Collision Type'] = test_df['Collision Type'].fillna(test_df['Collision Type'].mode()[0])"
      ]
    },
    {
      "cell_type": "code",
      "execution_count": null,
      "id": "a70109a7",
      "metadata": {
        "colab": {
          "base_uri": "https://localhost:8080/"
        },
        "id": "a70109a7",
        "outputId": "5f694c33-7264-45ee-9326-aa824bd003a4"
      },
      "outputs": [
        {
          "data": {
            "text/plain": [
              "count     51490\n",
              "unique       12\n",
              "top       CLEAR\n",
              "freq      37143\n",
              "Name: Weather, dtype: object"
            ]
          },
          "execution_count": 563,
          "metadata": {},
          "output_type": "execute_result"
        }
      ],
      "source": [
        "df['Weather'] = df['Weather'].fillna(df['Weather'].mode()[0]) \n",
        "df['Weather'].describe()"
      ]
    },
    {
      "cell_type": "code",
      "execution_count": null,
      "id": "CGWrttye8OUc",
      "metadata": {
        "id": "CGWrttye8OUc"
      },
      "outputs": [],
      "source": [
        "test_df['Weather'] = test_df['Weather'].fillna(test_df['Weather'].mode()[0])"
      ]
    },
    {
      "cell_type": "code",
      "execution_count": null,
      "id": "ca57bcbf",
      "metadata": {
        "colab": {
          "base_uri": "https://localhost:8080/"
        },
        "id": "ca57bcbf",
        "outputId": "6fe5f675-8672-459f-b523-5a52e7117d1c"
      },
      "outputs": [
        {
          "data": {
            "text/plain": [
              "count     51490\n",
              "unique       11\n",
              "top         DRY\n",
              "freq      40076\n",
              "Name: Surface Condition, dtype: object"
            ]
          },
          "execution_count": 565,
          "metadata": {},
          "output_type": "execute_result"
        }
      ],
      "source": [
        "df['Surface Condition'] = df['Surface Condition'].fillna(df['Surface Condition'].mode()[0])\n",
        "df['Surface Condition'].describe()"
      ]
    },
    {
      "cell_type": "code",
      "execution_count": null,
      "id": "HcOe4o9Z8arV",
      "metadata": {
        "id": "HcOe4o9Z8arV"
      },
      "outputs": [],
      "source": [
        "test_df['Surface Condition'] = test_df['Surface Condition'].fillna(test_df['Surface Condition'].mode()[0])"
      ]
    },
    {
      "cell_type": "code",
      "execution_count": null,
      "id": "3a3de09b",
      "metadata": {
        "colab": {
          "base_uri": "https://localhost:8080/"
        },
        "id": "3a3de09b",
        "outputId": "212c14b3-f294-48b8-b3b8-2fa06968bc46"
      },
      "outputs": [
        {
          "data": {
            "text/plain": [
              "DAYLIGHT                    33617\n",
              "DARK LIGHTS ON              11224\n",
              "DARK NO LIGHTS               1716\n",
              "DUSK                         1425\n",
              "DAWN                         1222\n",
              "DARK -- UNKNOWN LIGHTING      727\n",
              "UNKNOWN                       480\n",
              "OTHER                         375\n",
              "Name: Light, dtype: int64"
            ]
          },
          "execution_count": 567,
          "metadata": {},
          "output_type": "execute_result"
        }
      ],
      "source": [
        "df['Light'].value_counts()"
      ]
    },
    {
      "cell_type": "code",
      "execution_count": null,
      "id": "8294c9eb",
      "metadata": {
        "id": "8294c9eb"
      },
      "outputs": [],
      "source": [
        "temp = df['Light'].loc[(df['hour'] >= 6) & (df['hour'] < 17)]\n",
        "temp = temp.fillna('DAYLIGHT')\n",
        "df.update(temp)"
      ]
    },
    {
      "cell_type": "code",
      "execution_count": null,
      "id": "kpRYAIBkCKN0",
      "metadata": {
        "id": "kpRYAIBkCKN0"
      },
      "outputs": [],
      "source": [
        "temp = test_df['Light'].loc[(test_df['hour'] >= 6) & (test_df['hour'] < 17)]\n",
        "temp = temp.fillna('DAYLIGHT')\n",
        "test_df.update(temp)"
      ]
    },
    {
      "cell_type": "code",
      "execution_count": null,
      "id": "1508931d",
      "metadata": {
        "id": "1508931d"
      },
      "outputs": [],
      "source": [
        "temp = df['Light'].loc[(df['hour'] >= 17) & (df['hour'] < 18)]\n",
        "temp = temp.fillna('DAYLIGHT')\n",
        "df.update(temp)"
      ]
    },
    {
      "cell_type": "code",
      "execution_count": null,
      "id": "xovC_2hCCWGG",
      "metadata": {
        "id": "xovC_2hCCWGG"
      },
      "outputs": [],
      "source": [
        "temp = test_df['Light'].loc[(test_df['hour'] >= 17) & (test_df['hour'] < 18)]\n",
        "temp = temp.fillna('DAYLIGHT')\n",
        "test_df.update(temp)"
      ]
    },
    {
      "cell_type": "code",
      "execution_count": null,
      "id": "af664730",
      "metadata": {
        "id": "af664730"
      },
      "outputs": [],
      "source": [
        "temp = df['Light'].loc[(df['hour'] >= 18) & (df['hour'] <= 23)]\n",
        "temp = temp.fillna('DARK LIGHTS ON')\n",
        "df.update(temp)"
      ]
    },
    {
      "cell_type": "code",
      "execution_count": null,
      "id": "8GbRTMy9CeH6",
      "metadata": {
        "id": "8GbRTMy9CeH6"
      },
      "outputs": [],
      "source": [
        "temp = test_df['Light'].loc[(test_df['hour'] >= 18) & (test_df['hour'] <= 23)]\n",
        "temp = temp.fillna('DARK LIGHTS ON')\n",
        "test_df.update(temp)"
      ]
    },
    {
      "cell_type": "code",
      "execution_count": null,
      "id": "324a7419",
      "metadata": {
        "id": "324a7419"
      },
      "outputs": [],
      "source": [
        "temp = df['Light'].loc[(df['hour'] >= 0) & (df['hour'] < 5)]\n",
        "temp = temp.fillna('DARK LIGHTS ON')\n",
        "df.update(temp)"
      ]
    },
    {
      "cell_type": "code",
      "execution_count": null,
      "id": "BZc9e9HWCnDi",
      "metadata": {
        "id": "BZc9e9HWCnDi"
      },
      "outputs": [],
      "source": [
        "temp = test_df['Light'].loc[(test_df['hour'] >= 0) & (test_df['hour'] < 5)]\n",
        "temp = temp.fillna('DARK LIGHTS ON')\n",
        "test_df.update(temp)"
      ]
    },
    {
      "cell_type": "code",
      "execution_count": null,
      "id": "2fc1d5d5",
      "metadata": {
        "id": "2fc1d5d5"
      },
      "outputs": [],
      "source": [
        "temp = df['Light'].loc[(df['hour'] >= 5) & (df['hour'] < 6)]\n",
        "temp = temp.fillna('DARK LIGHTS ON')\n",
        "df.update(temp)"
      ]
    },
    {
      "cell_type": "code",
      "execution_count": null,
      "id": "o3LZqoeUCsaM",
      "metadata": {
        "id": "o3LZqoeUCsaM"
      },
      "outputs": [],
      "source": [
        "temp = test_df['Light'].loc[(test_df['hour'] >= 5) & (test_df['hour'] < 6)]\n",
        "temp = temp.fillna('DARK LIGHTS ON')\n",
        "test_df.update(temp)"
      ]
    },
    {
      "cell_type": "code",
      "execution_count": null,
      "id": "3e5cb169",
      "metadata": {
        "colab": {
          "base_uri": "https://localhost:8080/"
        },
        "id": "3e5cb169",
        "outputId": "4ab4780f-3ad4-4a1d-9768-3ad4de5439e8"
      },
      "outputs": [
        {
          "data": {
            "text/plain": [
              "0"
            ]
          },
          "execution_count": 578,
          "metadata": {},
          "output_type": "execute_result"
        }
      ],
      "source": [
        "df['Light'].isnull().sum()"
      ]
    },
    {
      "cell_type": "code",
      "execution_count": null,
      "id": "LdzTx-fvCxlC",
      "metadata": {
        "colab": {
          "base_uri": "https://localhost:8080/"
        },
        "id": "LdzTx-fvCxlC",
        "outputId": "d57de13a-9b1a-4d68-f248-95f03e02cde2"
      },
      "outputs": [
        {
          "data": {
            "text/plain": [
              "0"
            ]
          },
          "execution_count": 579,
          "metadata": {},
          "output_type": "execute_result"
        }
      ],
      "source": [
        "test_df['Light'].isnull().sum()"
      ]
    },
    {
      "cell_type": "code",
      "execution_count": null,
      "id": "d2ce2af9",
      "metadata": {
        "colab": {
          "base_uri": "https://localhost:8080/"
        },
        "id": "d2ce2af9",
        "outputId": "fbfd2229-e14a-43b7-e67d-848f60ad20fb"
      },
      "outputs": [
        {
          "data": {
            "text/plain": [
              "DAYLIGHT                    34114\n",
              "DARK LIGHTS ON              11431\n",
              "DARK NO LIGHTS               1716\n",
              "DUSK                         1425\n",
              "DAWN                         1222\n",
              "DARK -- UNKNOWN LIGHTING      727\n",
              "UNKNOWN                       480\n",
              "OTHER                         375\n",
              "Name: Light, dtype: int64"
            ]
          },
          "execution_count": 580,
          "metadata": {},
          "output_type": "execute_result"
        }
      ],
      "source": [
        "df['Light'].value_counts()"
      ]
    },
    {
      "cell_type": "code",
      "execution_count": null,
      "id": "4da8a4be",
      "metadata": {
        "colab": {
          "base_uri": "https://localhost:8080/"
        },
        "id": "4da8a4be",
        "outputId": "fa308098-32d7-4aac-b090-8ae67e8d8b03"
      },
      "outputs": [
        {
          "data": {
            "text/plain": [
              "0"
            ]
          },
          "execution_count": 581,
          "metadata": {},
          "output_type": "execute_result"
        }
      ],
      "source": [
        "df['Traffic Control'] = df['Traffic Control'].fillna(df['Traffic Control'].mode()[0])\n",
        "df['Traffic Control'].isnull().sum()"
      ]
    },
    {
      "cell_type": "code",
      "execution_count": null,
      "id": "Z9cJLoxuC4Xa",
      "metadata": {
        "id": "Z9cJLoxuC4Xa"
      },
      "outputs": [],
      "source": [
        "test_df['Traffic Control'] = test_df['Traffic Control'].fillna(test_df['Traffic Control'].mode()[0])"
      ]
    },
    {
      "cell_type": "code",
      "execution_count": null,
      "id": "f2c49a51",
      "metadata": {
        "id": "f2c49a51"
      },
      "outputs": [],
      "source": [
        "df['Driver Substance Abuse'] = df['Driver Substance Abuse'].fillna(df['Driver Substance Abuse'].mode()[0])"
      ]
    },
    {
      "cell_type": "code",
      "execution_count": null,
      "id": "7xuxkehDDCGZ",
      "metadata": {
        "id": "7xuxkehDDCGZ"
      },
      "outputs": [],
      "source": [
        "test_df['Driver Substance Abuse'] = test_df['Driver Substance Abuse'].fillna(test_df['Driver Substance Abuse'].mode()[0])"
      ]
    },
    {
      "cell_type": "code",
      "execution_count": null,
      "id": "c2bf2406",
      "metadata": {
        "id": "c2bf2406"
      },
      "outputs": [],
      "source": [
        "df.drop('Non-Motorist Substance Abuse', axis = 1, inplace = True)"
      ]
    },
    {
      "cell_type": "code",
      "execution_count": null,
      "id": "Hei5CbbaDHL3",
      "metadata": {
        "id": "Hei5CbbaDHL3"
      },
      "outputs": [],
      "source": [
        "test_df.drop('Non-Motorist Substance Abuse', axis = 1, inplace = True)"
      ]
    },
    {
      "cell_type": "code",
      "execution_count": null,
      "id": "82e9258e",
      "metadata": {
        "id": "82e9258e"
      },
      "outputs": [],
      "source": [
        "df.drop('Circumstance', axis = 1, inplace = True)"
      ]
    },
    {
      "cell_type": "code",
      "execution_count": null,
      "id": "G16ITinNDPnq",
      "metadata": {
        "id": "G16ITinNDPnq"
      },
      "outputs": [],
      "source": [
        "test_df.drop('Circumstance', axis = 1, inplace = True)"
      ]
    },
    {
      "cell_type": "code",
      "execution_count": null,
      "id": "1c72648f",
      "metadata": {
        "colab": {
          "base_uri": "https://localhost:8080/"
        },
        "id": "1c72648f",
        "outputId": "04ee9ace-f481-4a00-ead6-a881470ec40e"
      },
      "outputs": [
        {
          "data": {
            "text/plain": [
              "0"
            ]
          },
          "execution_count": 589,
          "metadata": {},
          "output_type": "execute_result"
        }
      ],
      "source": [
        "df['Drivers License State'] = df['Drivers License State'].fillna(df['Drivers License State'].mode()[0])\n",
        "df['Drivers License State'].isnull().sum()"
      ]
    },
    {
      "cell_type": "code",
      "execution_count": null,
      "id": "m9qpApFQDTy1",
      "metadata": {
        "id": "m9qpApFQDTy1"
      },
      "outputs": [],
      "source": [
        "test_df['Drivers License State'] = test_df['Drivers License State'].fillna(test_df['Drivers License State'].mode()[0])"
      ]
    },
    {
      "cell_type": "code",
      "execution_count": null,
      "id": "ff52ec5e",
      "metadata": {
        "id": "ff52ec5e"
      },
      "outputs": [],
      "source": [
        "df['Vehicle Damage Extent'] = df['Vehicle Damage Extent'].fillna(df['Vehicle Damage Extent'].mode()[0])"
      ]
    },
    {
      "cell_type": "code",
      "execution_count": null,
      "id": "V9OV3meSDYsv",
      "metadata": {
        "id": "V9OV3meSDYsv"
      },
      "outputs": [],
      "source": [
        "test_df['Vehicle Damage Extent'] = test_df['Vehicle Damage Extent'].fillna(test_df['Vehicle Damage Extent'].mode()[0])"
      ]
    },
    {
      "cell_type": "code",
      "execution_count": null,
      "id": "b78fdbf0",
      "metadata": {
        "id": "b78fdbf0"
      },
      "outputs": [],
      "source": [
        "df['Vehicle First Impact Location'] = df['Vehicle First Impact Location'].fillna(df['Vehicle First Impact Location'].mode()[0])"
      ]
    },
    {
      "cell_type": "code",
      "execution_count": null,
      "id": "mWtsBD8BDeKI",
      "metadata": {
        "id": "mWtsBD8BDeKI"
      },
      "outputs": [],
      "source": [
        "test_df['Vehicle First Impact Location'] = test_df['Vehicle First Impact Location'].fillna(test_df['Vehicle First Impact Location'].mode()[0])"
      ]
    },
    {
      "cell_type": "code",
      "execution_count": null,
      "id": "4eaeae87",
      "metadata": {
        "id": "4eaeae87"
      },
      "outputs": [],
      "source": [
        "df['Vehicle Second Impact Location'] = df['Vehicle Second Impact Location'].fillna(df['Vehicle Second Impact Location'].mode()[0])"
      ]
    },
    {
      "cell_type": "code",
      "execution_count": null,
      "id": "u1vvuMzpDi_w",
      "metadata": {
        "id": "u1vvuMzpDi_w"
      },
      "outputs": [],
      "source": [
        "test_df['Vehicle Second Impact Location'] = test_df['Vehicle Second Impact Location'].fillna(test_df['Vehicle Second Impact Location'].mode()[0])"
      ]
    },
    {
      "cell_type": "code",
      "execution_count": null,
      "id": "8866b2b4",
      "metadata": {
        "id": "8866b2b4"
      },
      "outputs": [],
      "source": [
        "df['Vehicle Body Type'] = df['Vehicle Body Type'].fillna(df['Vehicle Body Type'].mode()[0])"
      ]
    },
    {
      "cell_type": "code",
      "execution_count": null,
      "id": "f9kLQVAyDnjI",
      "metadata": {
        "id": "f9kLQVAyDnjI"
      },
      "outputs": [],
      "source": [
        "test_df['Vehicle Body Type'] = test_df['Vehicle Body Type'].fillna(test_df['Vehicle Body Type'].mode()[0])"
      ]
    },
    {
      "cell_type": "code",
      "execution_count": null,
      "id": "4d371e72",
      "metadata": {
        "id": "4d371e72"
      },
      "outputs": [],
      "source": [
        "df['Vehicle Movement'] = df['Vehicle Movement'].fillna(df['Vehicle Movement'].mode()[0])"
      ]
    },
    {
      "cell_type": "code",
      "execution_count": null,
      "id": "r8-oqoI7Drxi",
      "metadata": {
        "id": "r8-oqoI7Drxi"
      },
      "outputs": [],
      "source": [
        "test_df['Vehicle Movement'] = test_df['Vehicle Movement'].fillna(test_df['Vehicle Movement'].mode()[0])"
      ]
    },
    {
      "cell_type": "code",
      "execution_count": null,
      "id": "d71c0600",
      "metadata": {
        "id": "d71c0600"
      },
      "outputs": [],
      "source": [
        "df['Vehicle Continuing Dir'] = df['Vehicle Continuing Dir'].fillna(df['Vehicle Continuing Dir'].mode()[0])"
      ]
    },
    {
      "cell_type": "code",
      "execution_count": null,
      "id": "gWkYlQQ_DwNL",
      "metadata": {
        "id": "gWkYlQQ_DwNL"
      },
      "outputs": [],
      "source": [
        "test_df['Vehicle Continuing Dir'] = test_df['Vehicle Continuing Dir'].fillna(test_df['Vehicle Continuing Dir'].mode()[0])"
      ]
    },
    {
      "cell_type": "code",
      "execution_count": null,
      "id": "145abbde",
      "metadata": {
        "id": "145abbde"
      },
      "outputs": [],
      "source": [
        "df['Vehicle Going Dir'] = df['Vehicle Going Dir'].fillna(df['Vehicle Going Dir'].mode()[0])"
      ]
    },
    {
      "cell_type": "code",
      "execution_count": null,
      "id": "DWrecZQPD0jH",
      "metadata": {
        "id": "DWrecZQPD0jH"
      },
      "outputs": [],
      "source": [
        "test_df['Vehicle Going Dir'] = test_df['Vehicle Going Dir'].fillna(test_df['Vehicle Going Dir'].mode()[0])"
      ]
    },
    {
      "cell_type": "code",
      "execution_count": null,
      "id": "7b5f18c8",
      "metadata": {
        "id": "7b5f18c8"
      },
      "outputs": [],
      "source": [
        "df['Vehicle Make'] = df['Vehicle Make'].fillna(df['Vehicle Make'].mode()[0])"
      ]
    },
    {
      "cell_type": "code",
      "execution_count": null,
      "id": "k95Gww48D5M7",
      "metadata": {
        "id": "k95Gww48D5M7"
      },
      "outputs": [],
      "source": [
        "test_df['Vehicle Make'] = test_df['Vehicle Make'].fillna(test_df['Vehicle Make'].mode()[0])"
      ]
    },
    {
      "cell_type": "code",
      "execution_count": null,
      "id": "6d34aec3",
      "metadata": {
        "id": "6d34aec3"
      },
      "outputs": [],
      "source": [
        "df['Vehicle Model'] = df['Vehicle Model'].fillna(df['Vehicle Model'].mode()[0])"
      ]
    },
    {
      "cell_type": "code",
      "execution_count": null,
      "id": "e9iStCswD9Rp",
      "metadata": {
        "id": "e9iStCswD9Rp"
      },
      "outputs": [],
      "source": [
        "test_df['Vehicle Model'] = test_df['Vehicle Model'].fillna(test_df['Vehicle Model'].mode()[0])"
      ]
    },
    {
      "cell_type": "code",
      "execution_count": null,
      "id": "9085cfe9",
      "metadata": {
        "id": "9085cfe9"
      },
      "outputs": [],
      "source": [
        "df['Equipment Problems'] = df['Equipment Problems'].fillna(df['Equipment Problems'].mode()[0])"
      ]
    },
    {
      "cell_type": "code",
      "execution_count": null,
      "id": "CB4pJnICEBzy",
      "metadata": {
        "id": "CB4pJnICEBzy"
      },
      "outputs": [],
      "source": [
        "test_df['Equipment Problems'] = test_df['Equipment Problems'].fillna(test_df['Equipment Problems'].mode()[0])"
      ]
    },
    {
      "cell_type": "code",
      "execution_count": null,
      "id": "614e552c",
      "metadata": {
        "colab": {
          "base_uri": "https://localhost:8080/"
        },
        "id": "614e552c",
        "outputId": "57578b05-c296-4184-f2ae-4aa934adf937"
      },
      "outputs": [
        {
          "name": "stdout",
          "output_type": "stream",
          "text": [
            "<class 'pandas.core.frame.DataFrame'>\n",
            "RangeIndex: 51490 entries, 0 to 51489\n",
            "Data columns (total 40 columns):\n",
            " #   Column                          Non-Null Count  Dtype  \n",
            "---  ------                          --------------  -----  \n",
            " 0   Agency Name                     51490 non-null  object \n",
            " 1   ACRS Report Type                51490 non-null  object \n",
            " 2   Route Type                      51490 non-null  object \n",
            " 3   Road Name                       51490 non-null  object \n",
            " 4   Cross-Street Type               51490 non-null  object \n",
            " 5   Cross-Street Name               51490 non-null  object \n",
            " 6   Municipality                    51490 non-null  object \n",
            " 7   Collision Type                  51490 non-null  object \n",
            " 8   Weather                         51490 non-null  object \n",
            " 9   Surface Condition               51490 non-null  object \n",
            " 10  Light                           51490 non-null  object \n",
            " 11  Traffic Control                 51490 non-null  object \n",
            " 12  Driver Substance Abuse          51490 non-null  object \n",
            " 13  Person ID                       51490 non-null  object \n",
            " 14  Injury Severity                 51490 non-null  object \n",
            " 15  Drivers License State           51490 non-null  object \n",
            " 16  Vehicle ID                      51490 non-null  object \n",
            " 17  Vehicle Damage Extent           51490 non-null  object \n",
            " 18  Vehicle First Impact Location   51490 non-null  object \n",
            " 19  Vehicle Second Impact Location  51490 non-null  object \n",
            " 20  Vehicle Body Type               51490 non-null  object \n",
            " 21  Vehicle Movement                51490 non-null  object \n",
            " 22  Vehicle Continuing Dir          51490 non-null  object \n",
            " 23  Vehicle Going Dir               51490 non-null  object \n",
            " 24  Speed Limit                     51490 non-null  int64  \n",
            " 25  Driverless Vehicle              51490 non-null  object \n",
            " 26  Parked Vehicle                  51490 non-null  object \n",
            " 27  Vehicle Year                    51490 non-null  int64  \n",
            " 28  Vehicle Make                    51490 non-null  object \n",
            " 29  Vehicle Model                   51490 non-null  object \n",
            " 30  Equipment Problems              51490 non-null  object \n",
            " 31  Latitude                        51490 non-null  float64\n",
            " 32  Longitude                       51490 non-null  float64\n",
            " 33  Location                        51490 non-null  object \n",
            " 34  Fault                           51490 non-null  int64  \n",
            " 35  year                            51490 non-null  int64  \n",
            " 36  month                           51490 non-null  int64  \n",
            " 37  date                            51490 non-null  int64  \n",
            " 38  day                             51490 non-null  int64  \n",
            " 39  hour                            51490 non-null  int64  \n",
            "dtypes: float64(2), int64(8), object(30)\n",
            "memory usage: 15.7+ MB\n"
          ]
        }
      ],
      "source": [
        "df.info()"
      ]
    },
    {
      "cell_type": "code",
      "execution_count": null,
      "id": "aPXgzG0oEGcx",
      "metadata": {
        "colab": {
          "base_uri": "https://localhost:8080/"
        },
        "id": "aPXgzG0oEGcx",
        "outputId": "d9b8be6b-a933-478d-a7f4-43f3b4cb75a1"
      },
      "outputs": [
        {
          "name": "stdout",
          "output_type": "stream",
          "text": [
            "<class 'pandas.core.frame.DataFrame'>\n",
            "RangeIndex: 77235 entries, 0 to 77234\n",
            "Data columns (total 40 columns):\n",
            " #   Column                          Non-Null Count  Dtype  \n",
            "---  ------                          --------------  -----  \n",
            " 0   Id                              77235 non-null  int64  \n",
            " 1   Agency Name                     77235 non-null  object \n",
            " 2   ACRS Report Type                77235 non-null  object \n",
            " 3   Route Type                      77235 non-null  object \n",
            " 4   Road Name                       77235 non-null  object \n",
            " 5   Cross-Street Type               77235 non-null  object \n",
            " 6   Cross-Street Name               77235 non-null  object \n",
            " 7   Municipality                    77235 non-null  object \n",
            " 8   Collision Type                  77235 non-null  object \n",
            " 9   Weather                         77235 non-null  object \n",
            " 10  Surface Condition               77235 non-null  object \n",
            " 11  Light                           77235 non-null  object \n",
            " 12  Traffic Control                 77235 non-null  object \n",
            " 13  Driver Substance Abuse          77235 non-null  object \n",
            " 14  Person ID                       77235 non-null  object \n",
            " 15  Injury Severity                 77235 non-null  object \n",
            " 16  Drivers License State           77235 non-null  object \n",
            " 17  Vehicle ID                      77235 non-null  object \n",
            " 18  Vehicle Damage Extent           77235 non-null  object \n",
            " 19  Vehicle First Impact Location   77235 non-null  object \n",
            " 20  Vehicle Second Impact Location  77235 non-null  object \n",
            " 21  Vehicle Body Type               77235 non-null  object \n",
            " 22  Vehicle Movement                77235 non-null  object \n",
            " 23  Vehicle Continuing Dir          77235 non-null  object \n",
            " 24  Vehicle Going Dir               77235 non-null  object \n",
            " 25  Speed Limit                     77235 non-null  int64  \n",
            " 26  Driverless Vehicle              77235 non-null  object \n",
            " 27  Parked Vehicle                  77235 non-null  object \n",
            " 28  Vehicle Year                    77235 non-null  int64  \n",
            " 29  Vehicle Make                    77235 non-null  object \n",
            " 30  Vehicle Model                   77235 non-null  object \n",
            " 31  Equipment Problems              77235 non-null  object \n",
            " 32  Latitude                        77235 non-null  float64\n",
            " 33  Longitude                       77235 non-null  float64\n",
            " 34  Location                        77235 non-null  object \n",
            " 35  year                            77235 non-null  int64  \n",
            " 36  month                           77235 non-null  int64  \n",
            " 37  date                            77235 non-null  int64  \n",
            " 38  day                             77235 non-null  int64  \n",
            " 39  hour                            77235 non-null  int64  \n",
            "dtypes: float64(2), int64(8), object(30)\n",
            "memory usage: 23.6+ MB\n"
          ]
        }
      ],
      "source": [
        "test_df.info()"
      ]
    },
    {
      "cell_type": "markdown",
      "id": "f2016fa3",
      "metadata": {
        "id": "f2016fa3"
      },
      "source": [
        "## Converting categorical data to numeric data"
      ]
    },
    {
      "cell_type": "code",
      "execution_count": null,
      "id": "5832740b",
      "metadata": {
        "id": "5832740b"
      },
      "outputs": [],
      "source": [
        "col_ls = df._get_numeric_data().columns\n",
        "categorical_ls = list(set(df.columns) - set(col_ls))\n",
        "\n",
        "le = LabelEncoder()\n",
        "\n",
        "for col_name in categorical_ls:\n",
        "    df[col_name] = le.fit_transform(df[col_name])"
      ]
    },
    {
      "cell_type": "code",
      "execution_count": null,
      "id": "HoRBdr-hENAt",
      "metadata": {
        "id": "HoRBdr-hENAt"
      },
      "outputs": [],
      "source": [
        "col_ls = test_df._get_numeric_data().columns\n",
        "categorical_ls = list(set(test_df.columns) - set(col_ls))\n",
        "\n",
        "le = LabelEncoder()\n",
        "\n",
        "for col in categorical_ls:\n",
        "  test_df[col] = test_df[col].astype(str)\n",
        "\n",
        "# le.fit_transform(test_df['Route Type'])\n",
        "for col_name in categorical_ls:\n",
        "    test_df[col_name] = le.fit_transform(test_df[col_name])"
      ]
    },
    {
      "cell_type": "code",
      "execution_count": null,
      "id": "hTdV30jrtPP5",
      "metadata": {
        "id": "hTdV30jrtPP5"
      },
      "outputs": [],
      "source": [
        "# vehicle year\n",
        "# speed limit\n",
        "# lat\n",
        "# long\n",
        "test_df['Vehicle Year'] = test_df['Vehicle Year'].fillna(test_df['Vehicle Year'].mode()[0])\n",
        "test_df['Speed Limit'] = test_df['Speed Limit'].fillna(test_df['Speed Limit'].mode()[0])\n",
        "test_df['Latitude'] = test_df['Latitude'].fillna(test_df['Latitude'].mode()[0])\n",
        "test_df['Longitude'] = test_df['Longitude'].fillna(test_df['Longitude'].mode()[0])"
      ]
    },
    {
      "cell_type": "code",
      "execution_count": null,
      "id": "QdYhKh0IEXDV",
      "metadata": {
        "id": "QdYhKh0IEXDV"
      },
      "outputs": [],
      "source": [
        "test_df.drop('Id',axis=1,inplace=True)"
      ]
    },
    {
      "cell_type": "markdown",
      "id": "23bec52c",
      "metadata": {
        "id": "23bec52c"
      },
      "source": [
        "## Normalizing the columns"
      ]
    },
    {
      "cell_type": "code",
      "execution_count": null,
      "id": "caa57f19",
      "metadata": {
        "id": "caa57f19"
      },
      "outputs": [],
      "source": [
        "mms = MinMaxScaler()\n",
        "cols = df.columns\n",
        "vals = df.values\n",
        "vals_scaled = mms.fit_transform(vals)\n",
        "df = pd.DataFrame(vals_scaled, columns=cols)"
      ]
    },
    {
      "cell_type": "code",
      "execution_count": null,
      "id": "NcmXsZZTEbZW",
      "metadata": {
        "id": "NcmXsZZTEbZW"
      },
      "outputs": [],
      "source": [
        "cols = test_df.columns\n",
        "vals = test_df.values\n",
        "vals_scaled = mms.fit_transform(vals)\n",
        "test_df = pd.DataFrame(vals_scaled, columns=cols)"
      ]
    },
    {
      "cell_type": "code",
      "execution_count": null,
      "id": "307c30b3",
      "metadata": {
        "id": "307c30b3"
      },
      "outputs": [],
      "source": [
        "X,y = df.drop('Fault',axis=1), df['Fault']"
      ]
    },
    {
      "cell_type": "markdown",
      "id": "bfbd16f5",
      "metadata": {
        "id": "bfbd16f5"
      },
      "source": [
        "## Ranking the features in our dataset"
      ]
    },
    {
      "cell_type": "code",
      "execution_count": null,
      "id": "709e50a6",
      "metadata": {
        "colab": {
          "base_uri": "https://localhost:8080/",
          "height": 879
        },
        "id": "709e50a6",
        "outputId": "068ea5e0-6a51-4e3a-82e0-23d531559faa",
        "scrolled": true
      },
      "outputs": [
        {
          "data": {
            "image/png": "[encoded data removed]",
            "text/plain": [
              "<Figure size 2880x2880 with 1 Axes>"
            ]
          },
          "metadata": {
            "needs_background": "light"
          },
          "output_type": "display_data"
        }
      ],
      "source": [
        "feat_sel = ExtraTreesClassifier()\n",
        "feat_sel.fit(X,y)\n",
        "plt.figure(figsize=(40,40))\n",
        "feat_imp = pd.Series(feat_sel.feature_importances_,index = X.columns)\n",
        "feat_imp.nlargest(40).plot(kind='barh')\n",
        "\n",
        "plt.show()\n",
        "top_feats = feat_sel.feature_importances_"
      ]
    },
    {
      "cell_type": "code",
      "execution_count": null,
      "id": "WMXbY_8FGGPc",
      "metadata": {
        "id": "WMXbY_8FGGPc"
      },
      "outputs": [],
      "source": [
        "# top_cols2 = corr_mat['Fault'].nlargest(16).index"
      ]
    },
    {
      "cell_type": "code",
      "execution_count": null,
      "id": "6K0ZsmN4Gfsq",
      "metadata": {
        "id": "6K0ZsmN4Gfsq"
      },
      "outputs": [],
      "source": [
        "# top_cols2 = top_cols2.drop(labels='Fault')"
      ]
    },
    {
      "cell_type": "code",
      "execution_count": null,
      "id": "gMjW-w13Hz-1",
      "metadata": {
        "id": "gMjW-w13Hz-1"
      },
      "outputs": [],
      "source": [
        "# df_new2 = df[top_cols2]\n",
        "# test_df_new2 = test_df[top_cols2]"
      ]
    },
    {
      "cell_type": "code",
      "execution_count": null,
      "id": "0FjERIIbIAg1",
      "metadata": {
        "colab": {
          "base_uri": "https://localhost:8080/"
        },
        "id": "0FjERIIbIAg1",
        "outputId": "ca7731ae-e022-4dac-8774-a209450943ef"
      },
      "outputs": [
        {
          "name": "stdout",
          "output_type": "stream",
          "text": [
            "<class 'pandas.core.frame.DataFrame'>\n",
            "RangeIndex: 77235 entries, 0 to 77234\n",
            "Data columns (total 18 columns):\n",
            " #   Column                          Non-Null Count  Dtype  \n",
            "---  ------                          --------------  -----  \n",
            " 0   Vehicle Movement                77235 non-null  float64\n",
            " 1   Vehicle First Impact Location   77235 non-null  float64\n",
            " 2   Vehicle Second Impact Location  77235 non-null  float64\n",
            " 3   Collision Type                  77235 non-null  float64\n",
            " 4   Driver Substance Abuse          77235 non-null  float64\n",
            " 5   Speed Limit                     77235 non-null  float64\n",
            " 6   Vehicle Damage Extent           77235 non-null  float64\n",
            " 7   Traffic Control                 77235 non-null  float64\n",
            " 8   Cross-Street Name               77235 non-null  float64\n",
            " 9   Vehicle Year                    77235 non-null  float64\n",
            " 10  hour                            77235 non-null  float64\n",
            " 11  Vehicle Model                   77235 non-null  float64\n",
            " 12  Person ID                       77235 non-null  float64\n",
            " 13  Vehicle Make                    77235 non-null  float64\n",
            " 14  Road Name                       77235 non-null  float64\n",
            " 15  Location                        77235 non-null  float64\n",
            " 16  Vehicle ID                      77235 non-null  float64\n",
            " 17  Longitude                       77235 non-null  float64\n",
            "dtypes: float64(18)\n",
            "memory usage: 10.6 MB\n"
          ]
        }
      ],
      "source": [
        "test_df_new.info()"
      ]
    },
    {
      "cell_type": "code",
      "execution_count": null,
      "id": "0uHnpGgyt4HA",
      "metadata": {
        "colab": {
          "base_uri": "https://localhost:8080/"
        },
        "id": "0uHnpGgyt4HA",
        "outputId": "f35fddde-4e95-48ac-dfc9-d6f49eaaefdd"
      },
      "outputs": [
        {
          "name": "stdout",
          "output_type": "stream",
          "text": [
            "<class 'pandas.core.frame.DataFrame'>\n",
            "RangeIndex: 51490 entries, 0 to 51489\n",
            "Data columns (total 12 columns):\n",
            " #   Column                          Non-Null Count  Dtype  \n",
            "---  ------                          --------------  -----  \n",
            " 0   Vehicle Movement                51490 non-null  float64\n",
            " 1   Vehicle First Impact Location   51490 non-null  float64\n",
            " 2   Vehicle Second Impact Location  51490 non-null  float64\n",
            " 3   Collision Type                  51490 non-null  float64\n",
            " 4   Driver Substance Abuse          51490 non-null  float64\n",
            " 5   Speed Limit                     51490 non-null  float64\n",
            " 6   Vehicle Damage Extent           51490 non-null  float64\n",
            " 7   Traffic Control                 51490 non-null  float64\n",
            " 8   Cross-Street Name               51490 non-null  float64\n",
            " 9   Vehicle Year                    51490 non-null  float64\n",
            " 10  hour                            51490 non-null  float64\n",
            " 11  Vehicle Model                   51490 non-null  float64\n",
            "dtypes: float64(12)\n",
            "memory usage: 4.7 MB\n"
          ]
        }
      ],
      "source": [
        "df_new.info()"
      ]
    },
    {
      "cell_type": "code",
      "execution_count": null,
      "id": "u9EhA0OzRXFX",
      "metadata": {
        "colab": {
          "base_uri": "https://localhost:8080/"
        },
        "id": "u9EhA0OzRXFX",
        "outputId": "4d9ecce9-6078-47a8-ca9e-a0d32790ccf8"
      },
      "outputs": [
        {
          "data": {
            "text/plain": [
              "(51490, 40)"
            ]
          },
          "execution_count": 959,
          "metadata": {},
          "output_type": "execute_result"
        }
      ],
      "source": [
        "df.shape"
      ]
    },
    {
      "cell_type": "markdown",
      "id": "8445728e",
      "metadata": {
        "id": "8445728e"
      },
      "source": [
        "## Training the model"
      ]
    },
    {
      "cell_type": "markdown",
      "id": "07abf80a",
      "metadata": {
        "id": "07abf80a"
      },
      "source": [
        "In below cell we set 'k = 8' to select the top 8 features"
      ]
    },
    {
      "cell_type": "code",
      "execution_count": null,
      "id": "9Piwz0UXuCKc",
      "metadata": {
        "id": "9Piwz0UXuCKc"
      },
      "outputs": [],
      "source": [
        "top_cols = feat_imp.nlargest(8).index\n",
        "\n",
        "df_new = df[top_cols]\n",
        "test_df_new = test_df[top_cols]\n",
        "\n",
        "X_train, X_val, y_train, y_val = train_test_split(df_new,y,test_size=0.2)"
      ]
    },
    {
      "cell_type": "code",
      "execution_count": null,
      "id": "qHMcLsh2IKgz",
      "metadata": {
        "id": "qHMcLsh2IKgz"
      },
      "outputs": [],
      "source": [
        "# X_train2, X_val2, y_train2, y_val2 = train_test_split(df_new2,y,test_size=0.3)"
      ]
    },
    {
      "cell_type": "code",
      "execution_count": null,
      "id": "UlG4Fp3KuRL0",
      "metadata": {
        "colab": {
          "base_uri": "https://localhost:8080/"
        },
        "id": "UlG4Fp3KuRL0",
        "outputId": "fc79e799-3520-4471-f5c0-63f5e9c13599"
      },
      "outputs": [
        {
          "data": {
            "text/plain": [
              "0.8413284132841329"
            ]
          },
          "execution_count": 632,
          "metadata": {},
          "output_type": "execute_result"
        }
      ],
      "source": [
        "model_rf = RandomForestClassifier(n_estimators=150)\n",
        "model_rf = model_rf.fit(X_train,y_train)\n",
        "score = model_rf.score(X_val,y_val)\n",
        "score"
      ]
    },
    {
      "cell_type": "code",
      "execution_count": null,
      "id": "BjYiNqWHIPSz",
      "metadata": {
        "id": "BjYiNqWHIPSz"
      },
      "outputs": [],
      "source": [
        "# _model_rf = RandomForestClassifier(n_estimators=20)\n",
        "# _model_rf = _model_rf.fit(X_train2,y_train2)\n",
        "# _score = _model_rf.score(X_val2,y_val2)\n",
        "# _score"
      ]
    },
    {
      "cell_type": "code",
      "execution_count": null,
      "id": "kouPHDqZvegA",
      "metadata": {
        "colab": {
          "base_uri": "https://localhost:8080/"
        },
        "id": "kouPHDqZvegA",
        "outputId": "47aff27c-a0d1-4208-e71c-3314346ec933"
      },
      "outputs": [
        {
          "data": {
            "text/plain": [
              "0.8411342008156923"
            ]
          },
          "execution_count": 634,
          "metadata": {},
          "output_type": "execute_result"
        }
      ],
      "source": [
        "model_rf2 = RandomForestClassifier(n_estimators=1000)\n",
        "model_rf2 = model_rf2.fit(X_train,y_train)\n",
        "score2 = model_rf2.score(X_val,y_val)\n",
        "score2"
      ]
    },
    {
      "cell_type": "code",
      "execution_count": null,
      "id": "cVO5eY8pIhnO",
      "metadata": {
        "id": "cVO5eY8pIhnO"
      },
      "outputs": [],
      "source": [
        "# _model_rf2 = RandomForestClassifier(n_estimators=10)\n",
        "# _model_rf2 = _model_rf2.fit(X_train2,y_train2)\n",
        "# _score2 = _model_rf2.score(X_val2,y_val2)\n",
        "# _score2"
      ]
    },
    {
      "cell_type": "code",
      "execution_count": null,
      "id": "_Noa45j10Y3z",
      "metadata": {
        "colab": {
          "base_uri": "https://localhost:8080/"
        },
        "id": "_Noa45j10Y3z",
        "outputId": "4ba47a15-8722-4a30-9434-675b32c060ed"
      },
      "outputs": [
        {
          "data": {
            "text/plain": [
              "0.8403573509419304"
            ]
          },
          "execution_count": 636,
          "metadata": {},
          "output_type": "execute_result"
        }
      ],
      "source": [
        "model_rf3 = RandomForestClassifier()\n",
        "model_rf3 = model_rf3.fit(X_train,y_train)\n",
        "score5 = model_rf3.score(X_val,y_val)\n",
        "score5"
      ]
    },
    {
      "cell_type": "code",
      "execution_count": null,
      "id": "wLlrcmsnIq-d",
      "metadata": {
        "id": "wLlrcmsnIq-d"
      },
      "outputs": [],
      "source": [
        "# _model_rf3 = RandomForestClassifier()\n",
        "# _model_rf3 = _model_rf3.fit(X_train2,y_train2)\n",
        "# _score5 = _model_rf3.score(X_val2,y_val2)\n",
        "# _score5"
      ]
    },
    {
      "cell_type": "code",
      "execution_count": null,
      "id": "tpGc8RA5yqyv",
      "metadata": {
        "colab": {
          "base_uri": "https://localhost:8080/"
        },
        "id": "tpGc8RA5yqyv",
        "outputId": "77a8c284-b8bb-4f2d-d8b9-4e3beaa33c02"
      },
      "outputs": [
        {
          "data": {
            "text/plain": [
              "0.8357933579335793"
            ]
          },
          "execution_count": 638,
          "metadata": {},
          "output_type": "execute_result"
        }
      ],
      "source": [
        "gb_clf = GradientBoostingClassifier()\n",
        "gb_clf = gb_clf.fit(X_train,y_train)\n",
        "score3 = gb_clf.score(X_val,y_val)\n",
        "score3"
      ]
    },
    {
      "cell_type": "code",
      "execution_count": null,
      "id": "ZHlScbokI0XW",
      "metadata": {
        "id": "ZHlScbokI0XW"
      },
      "outputs": [],
      "source": [
        "# _gb_clf = GradientBoostingClassifier(n_estimators=10,learning_rate=0.05,max_features='sqrt',max_depth=14)\n",
        "# _gb_clf = _gb_clf.fit(X_train2,y_train2)\n",
        "# _score3 = _gb_clf.score(X_val2,y_val2)\n",
        "# _score3"
      ]
    },
    {
      "cell_type": "code",
      "execution_count": null,
      "id": "5AQLVLAVz_c4",
      "metadata": {
        "colab": {
          "base_uri": "https://localhost:8080/"
        },
        "id": "5AQLVLAVz_c4",
        "outputId": "4fc4b3a9-6365-4b63-d1b2-90d50975eab7"
      },
      "outputs": [
        {
          "data": {
            "text/plain": [
              "0.8383181200233055"
            ]
          },
          "execution_count": 640,
          "metadata": {},
          "output_type": "execute_result"
        }
      ],
      "source": [
        "gb_clf2 = GradientBoostingClassifier(n_estimators=500,learning_rate=0.05,max_features='sqrt')\n",
        "gb_clf2 = gb_clf2.fit(X_train,y_train)\n",
        "score4 = gb_clf2.score(X_val,y_val)\n",
        "score4"
      ]
    },
    {
      "cell_type": "code",
      "execution_count": null,
      "id": "OmA2055yI9nc",
      "metadata": {
        "id": "OmA2055yI9nc"
      },
      "outputs": [],
      "source": [
        "# _gb_clf2 = GradientBoostingClassifier(n_estimators=20,learning_rate=0.05,max_features='sqrt',max_depth=14)\n",
        "# _gb_clf2 = _gb_clf2.fit(X_train2,y_train2)\n",
        "# _score4 = _gb_clf2.score(X_val2,y_val2)\n",
        "# _score4"
      ]
    },
    {
      "cell_type": "code",
      "execution_count": null,
      "id": "RsO9001e0MyG",
      "metadata": {
        "colab": {
          "base_uri": "https://localhost:8080/"
        },
        "id": "RsO9001e0MyG",
        "outputId": "a5d8f37a-a798-4048-8f4f-c1082da195a1"
      },
      "outputs": [
        {
          "data": {
            "text/plain": [
              "0.8466692561662459"
            ]
          },
          "execution_count": 642,
          "metadata": {},
          "output_type": "execute_result"
        }
      ],
      "source": [
        "gb_clf3 = GradientBoostingClassifier(max_features='sqrt',max_depth=10)\n",
        "gb_clf3 = gb_clf3.fit(X_train,y_train)\n",
        "score6 = gb_clf3.score(X_val,y_val)\n",
        "score6"
      ]
    },
    {
      "cell_type": "code",
      "execution_count": null,
      "id": "6BBY5sDWJJdO",
      "metadata": {
        "id": "6BBY5sDWJJdO"
      },
      "outputs": [],
      "source": [
        "# _gb_clf3 = GradientBoostingClassifier(max_features='sqrt',max_depth=10)\n",
        "# _gb_clf3 = _gb_clf3.fit(X_train2,y_train2)\n",
        "# _score6 = _gb_clf3.score(X_val2,y_val2)\n",
        "# _score6"
      ]
    },
    {
      "cell_type": "code",
      "execution_count": null,
      "id": "IUGxsA2x0xzF",
      "metadata": {
        "colab": {
          "base_uri": "https://localhost:8080/"
        },
        "id": "IUGxsA2x0xzF",
        "outputId": "1fb16215-256a-42c0-950d-cbbb3b021f83"
      },
      "outputs": [
        {
          "data": {
            "text/plain": [
              "0.8417168382210138"
            ]
          },
          "execution_count": 644,
          "metadata": {},
          "output_type": "execute_result"
        }
      ],
      "source": [
        "gb_clf4 = GradientBoostingClassifier(max_features='sqrt',max_depth=10,n_estimators=220)\n",
        "gb_clf4 = gb_clf4.fit(X_train,y_train)\n",
        "score7 = gb_clf4.score(X_val,y_val)\n",
        "score7"
      ]
    },
    {
      "cell_type": "code",
      "execution_count": null,
      "id": "V3ZA0DTQUL6W",
      "metadata": {
        "colab": {
          "base_uri": "https://localhost:8080/"
        },
        "id": "V3ZA0DTQUL6W",
        "outputId": "b905232d-02ec-40cf-a64a-e7a523d5044d"
      },
      "outputs": [
        {
          "data": {
            "text/plain": [
              "0.8404544571761507"
            ]
          },
          "execution_count": 645,
          "metadata": {},
          "output_type": "execute_result"
        }
      ],
      "source": [
        "gb_clf5 = GradientBoostingClassifier(max_features='sqrt',max_depth=15,n_estimators=105)\n",
        "gb_clf5 = gb_clf5.fit(X_train,y_train)\n",
        "score8 = gb_clf5.score(X_val,y_val)\n",
        "score8"
      ]
    },
    {
      "cell_type": "code",
      "execution_count": null,
      "id": "UDt7RpPwgsHf",
      "metadata": {
        "colab": {
          "base_uri": "https://localhost:8080/"
        },
        "id": "UDt7RpPwgsHf",
        "outputId": "b94acfb5-96b1-4b72-dfce-55de3897a10a"
      },
      "outputs": [
        {
          "data": {
            "text/plain": [
              "0.8544377549038649"
            ]
          },
          "execution_count": 1040,
          "metadata": {},
          "output_type": "execute_result"
        }
      ],
      "source": [
        "xgb_model = xgb.XGBClassifier(learning_rate = 0.05,\n",
        "                              max_depth = 10,\n",
        "                              subsample = 0.6,\n",
        "                              colsample_bytree = 0.6,\n",
        "                              n_estimators = 225)\n",
        "\n",
        "# xgb_model = xgb.XGBClassifier()\n",
        "xgb_model.fit(X_train,y_train)\n",
        "xgb_model.score(X_val,y_val)"
      ]
    },
    {
      "cell_type": "markdown",
      "id": "XiKxOLClAYLc",
      "metadata": {
        "id": "XiKxOLClAYLc"
      },
      "source": [
        "### Hyperparameter for best accuracy\n",
        "\n",
        "- Number of features selected = 8 (This is not set in the XGBoostClassifier)\n",
        "- learning_rate =  0.05\n",
        "- max_depth = 8\n",
        "- subsample = 0.6\n",
        "- columnsample_bytree =  0.6\n",
        "- n_estimators = 382\n",
        "\n",
        "- Validation set accuracy score = 0.85667"
      ]
    },
    {
      "cell_type": "code",
      "execution_count": null,
      "id": "bnKp8IA8krBm",
      "metadata": {
        "id": "bnKp8IA8krBm"
      },
      "outputs": [],
      "source": [
        "preds = xgb_model.predict(test_df_new).astype(int)"
      ]
    },
    {
      "cell_type": "code",
      "execution_count": null,
      "id": "z6Go4gIWKOBc",
      "metadata": {
        "id": "z6Go4gIWKOBc"
      },
      "outputs": [],
      "source": [
        "test_preds = gb_clf2.predict(test_df_new).astype(int)\n",
        "# test_preds2 = gb_clf4.predict(test_df_new).astype(int)"
      ]
    },
    {
      "cell_type": "code",
      "execution_count": null,
      "id": "g9H_8mIUJaVA",
      "metadata": {
        "id": "g9H_8mIUJaVA"
      },
      "outputs": [],
      "source": [
        "submission = pd.DataFrame(\n",
        "    {'Id': ID, 'Fault': test_preds},\n",
        "    columns = ['Id','Fault'])\n",
        "submission.to_csv('submission.csv', index = False)"
      ]
    },
    {
      "cell_type": "code",
      "execution_count": null,
      "id": "KgJAlDmvLLQH",
      "metadata": {
        "id": "KgJAlDmvLLQH"
      },
      "outputs": [],
      "source": [
        "# submission = pd.DataFrame(\n",
        "#     {'Id': ID, 'Fault': test_preds2},\n",
        "#     columns = ['Id','Fault'])\n",
        "# submission.to_csv('submission2.csv', index = False)"
      ]
    },
    {
      "cell_type": "code",
      "execution_count": null,
      "id": "EbNSG2wfNvCQ",
      "metadata": {
        "id": "EbNSG2wfNvCQ"
      },
      "outputs": [],
      "source": [
        "submission = pd.DataFrame(\n",
        "    {'Id': ID, 'Fault': preds},\n",
        "    columns = ['Id','Fault'])\n",
        "submission.to_csv('submission3.csv', index = False)"
      ]
    },
    {
      "cell_type": "code",
      "execution_count": null,
      "id": "l9ObpdvUnqo9",
      "metadata": {
        "colab": {
          "base_uri": "https://localhost:8080/"
        },
        "id": "l9ObpdvUnqo9",
        "outputId": "73e8b122-1016-4e18-922a-799b01105f47"
      },
      "outputs": [
        {
          "data": {
            "text/plain": [
              "(77235, 39)"
            ]
          },
          "execution_count": 653,
          "metadata": {},
          "output_type": "execute_result"
        }
      ],
      "source": [
        "test_df.shape"
      ]
    },
    {
      "cell_type": "code",
      "execution_count": null,
      "id": "dMHCo65Cs6Qk",
      "metadata": {
        "colab": {
          "base_uri": "https://localhost:8080/"
        },
        "id": "dMHCo65Cs6Qk",
        "outputId": "54d736f8-7f45-4d1b-e33e-fb963b9d87e7"
      },
      "outputs": [
        {
          "data": {
            "text/plain": [
              "(77235,)"
            ]
          },
          "execution_count": 655,
          "metadata": {},
          "output_type": "execute_result"
        }
      ],
      "source": [
        "preds.shape"
      ]
    }
  ],
  "metadata": {
    "colab": {
      "collapsed_sections": [],
      "provenance": []
    },
    "kernelspec": {
      "display_name": "Python 3",
      "language": "python",
      "name": "python3"
    },
    "language_info": {
      "codemirror_mode": {
        "name": "ipython",
        "version": 3
      },
      "file_extension": ".py",
      "mimetype": "text/x-python",
      "name": "python",
      "nbconvert_exporter": "python",
      "pygments_lexer": "ipython3",
      "version": "3.8.8"
    }
  },
  "nbformat": 4,
  "nbformat_minor": 5
}