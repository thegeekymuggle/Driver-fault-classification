{
 "cells": [
  {
   "cell_type": "code",
   "execution_count": 1,
   "id": "ac40b0ab",
   "metadata": {},
   "outputs": [],
   "source": [
    "import numpy as np\n",
    "import pandas as pd\n",
    "import seaborn as sns\n",
    "from sklearn.ensemble import ExtraTreesClassifier\n",
    "import matplotlib.pyplot as plt\n",
    "from sklearn.preprocessing import LabelEncoder, MinMaxScaler"
   ]
  },
  {
   "cell_type": "code",
   "execution_count": 297,
   "id": "39fb5321",
   "metadata": {},
   "outputs": [
    {
     "data": {
      "text/html": [
       "<div>\n",
       "<style scoped>\n",
       "    .dataframe tbody tr th:only-of-type {\n",
       "        vertical-align: middle;\n",
       "    }\n",
       "\n",
       "    .dataframe tbody tr th {\n",
       "        vertical-align: top;\n",
       "    }\n",
       "\n",
       "    .dataframe thead th {\n",
       "        text-align: right;\n",
       "    }\n",
       "</style>\n",
       "<table border=\"1\" class=\"dataframe\">\n",
       "  <thead>\n",
       "    <tr style=\"text-align: right;\">\n",
       "      <th></th>\n",
       "      <th>Report Number</th>\n",
       "      <th>Local Case Number</th>\n",
       "      <th>Agency Name</th>\n",
       "      <th>ACRS Report Type</th>\n",
       "      <th>Crash Date/Time</th>\n",
       "      <th>Route Type</th>\n",
       "      <th>Road Name</th>\n",
       "      <th>Cross-Street Type</th>\n",
       "      <th>Cross-Street Name</th>\n",
       "      <th>Off-Road Description</th>\n",
       "      <th>...</th>\n",
       "      <th>Driverless Vehicle</th>\n",
       "      <th>Parked Vehicle</th>\n",
       "      <th>Vehicle Year</th>\n",
       "      <th>Vehicle Make</th>\n",
       "      <th>Vehicle Model</th>\n",
       "      <th>Equipment Problems</th>\n",
       "      <th>Latitude</th>\n",
       "      <th>Longitude</th>\n",
       "      <th>Location</th>\n",
       "      <th>Fault</th>\n",
       "    </tr>\n",
       "  </thead>\n",
       "  <tbody>\n",
       "    <tr>\n",
       "      <th>0</th>\n",
       "      <td>MP060D</td>\n",
       "      <td>10196</td>\n",
       "      <td>Montgomery County Police</td>\n",
       "      <td>Injury Crash</td>\n",
       "      <td>06/05/2017 04:27:00 PM</td>\n",
       "      <td>Maryland (State)</td>\n",
       "      <td>OLD HUNDRED RD</td>\n",
       "      <td>County</td>\n",
       "      <td>THURSTON RD</td>\n",
       "      <td>12305 SHOREFIELD RD</td>\n",
       "      <td>...</td>\n",
       "      <td>No</td>\n",
       "      <td>No</td>\n",
       "      <td>2005</td>\n",
       "      <td>GMC</td>\n",
       "      <td>TRUCK</td>\n",
       "      <td>NO MISUSE</td>\n",
       "      <td>39.263378</td>\n",
       "      <td>-77.344203</td>\n",
       "      <td>3.6383 7.4233</td>\n",
       "      <td>1</td>\n",
       "    </tr>\n",
       "    <tr>\n",
       "      <th>1</th>\n",
       "      <td>MP000X</td>\n",
       "      <td>20080</td>\n",
       "      <td>Montgomery County Police</td>\n",
       "      <td>Injury Crash</td>\n",
       "      <td>02/22/2020 10:00:00 AM</td>\n",
       "      <td>County</td>\n",
       "      <td>JANET RD</td>\n",
       "      <td>County</td>\n",
       "      <td>FLACK ST</td>\n",
       "      <td>NaN</td>\n",
       "      <td>...</td>\n",
       "      <td>No</td>\n",
       "      <td>Yes</td>\n",
       "      <td>2018</td>\n",
       "      <td>FORD</td>\n",
       "      <td>FIESTA</td>\n",
       "      <td>NO MISUSE</td>\n",
       "      <td>39.068913</td>\n",
       "      <td>-77.063227</td>\n",
       "      <td>3.0862 7.324</td>\n",
       "      <td>1</td>\n",
       "    </tr>\n",
       "    <tr>\n",
       "      <th>2</th>\n",
       "      <td>MP070N</td>\n",
       "      <td>10103</td>\n",
       "      <td>Montgomery County Police</td>\n",
       "      <td>Property Damage Crash</td>\n",
       "      <td>06/11/2017 08:21:00 AM</td>\n",
       "      <td>Maryland (State)</td>\n",
       "      <td>COLESVILLE RD</td>\n",
       "      <td>Maryland (State)</td>\n",
       "      <td>STRUC #15082</td>\n",
       "      <td>NaN</td>\n",
       "      <td>...</td>\n",
       "      <td>No</td>\n",
       "      <td>No</td>\n",
       "      <td>2016</td>\n",
       "      <td>NEW FLYER</td>\n",
       "      <td>TBU</td>\n",
       "      <td>NO MISUSE</td>\n",
       "      <td>38.993578</td>\n",
       "      <td>-77.032718</td>\n",
       "      <td>3.9583 7.3783</td>\n",
       "      <td>0</td>\n",
       "    </tr>\n",
       "    <tr>\n",
       "      <th>3</th>\n",
       "      <td>MP130Y</td>\n",
       "      <td>10208</td>\n",
       "      <td>Montgomery County Police</td>\n",
       "      <td>Injury Crash</td>\n",
       "      <td>05/10/2019 07:30:00 AM</td>\n",
       "      <td>County</td>\n",
       "      <td>PARKLAND DR</td>\n",
       "      <td>County</td>\n",
       "      <td>FRANKFORT DR</td>\n",
       "      <td>NaN</td>\n",
       "      <td>...</td>\n",
       "      <td>No</td>\n",
       "      <td>No</td>\n",
       "      <td>2001</td>\n",
       "      <td>CHEV</td>\n",
       "      <td>SUBURBAN</td>\n",
       "      <td>OTHER</td>\n",
       "      <td>39.083480</td>\n",
       "      <td>-77.086933</td>\n",
       "      <td>3.84,-70633</td>\n",
       "      <td>1</td>\n",
       "    </tr>\n",
       "    <tr>\n",
       "      <th>4</th>\n",
       "      <td>MP770Y</td>\n",
       "      <td>1091</td>\n",
       "      <td>Montgomery County Police</td>\n",
       "      <td>Injury Crash</td>\n",
       "      <td>08/02/2016 05:00:00 PM</td>\n",
       "      <td>Maryland (State)</td>\n",
       "      <td>OLD GEORGETOWN RD</td>\n",
       "      <td>County</td>\n",
       "      <td>MCKINLEY ST</td>\n",
       "      <td>NaN</td>\n",
       "      <td>...</td>\n",
       "      <td>No</td>\n",
       "      <td>No</td>\n",
       "      <td>2013</td>\n",
       "      <td>KIA</td>\n",
       "      <td>RIO</td>\n",
       "      <td>NO MISUSE</td>\n",
       "      <td>38.996942</td>\n",
       "      <td>-77.109168</td>\n",
       "      <td>3.9917 7.0183</td>\n",
       "      <td>0</td>\n",
       "    </tr>\n",
       "  </tbody>\n",
       "</table>\n",
       "<p>5 rows × 42 columns</p>\n",
       "</div>"
      ],
      "text/plain": [
       "  Report Number Local Case Number               Agency Name  \\\n",
       "0        MP060D             10196  Montgomery County Police   \n",
       "1        MP000X             20080  Montgomery County Police   \n",
       "2        MP070N             10103  Montgomery County Police   \n",
       "3        MP130Y             10208  Montgomery County Police   \n",
       "4        MP770Y              1091  Montgomery County Police   \n",
       "\n",
       "        ACRS Report Type         Crash Date/Time        Route Type  \\\n",
       "0           Injury Crash  06/05/2017 04:27:00 PM  Maryland (State)   \n",
       "1           Injury Crash  02/22/2020 10:00:00 AM            County   \n",
       "2  Property Damage Crash  06/11/2017 08:21:00 AM  Maryland (State)   \n",
       "3           Injury Crash  05/10/2019 07:30:00 AM            County   \n",
       "4           Injury Crash  08/02/2016 05:00:00 PM  Maryland (State)   \n",
       "\n",
       "           Road Name Cross-Street Type Cross-Street Name Off-Road Description  \\\n",
       "0     OLD HUNDRED RD            County       THURSTON RD  12305 SHOREFIELD RD   \n",
       "1           JANET RD            County          FLACK ST                  NaN   \n",
       "2      COLESVILLE RD  Maryland (State)      STRUC #15082                  NaN   \n",
       "3        PARKLAND DR            County      FRANKFORT DR                  NaN   \n",
       "4  OLD GEORGETOWN RD            County       MCKINLEY ST                  NaN   \n",
       "\n",
       "   ... Driverless Vehicle Parked Vehicle Vehicle Year Vehicle Make  \\\n",
       "0  ...                 No             No         2005          GMC   \n",
       "1  ...                 No            Yes         2018         FORD   \n",
       "2  ...                 No             No         2016    NEW FLYER   \n",
       "3  ...                 No             No         2001         CHEV   \n",
       "4  ...                 No             No         2013          KIA   \n",
       "\n",
       "  Vehicle Model Equipment Problems   Latitude  Longitude       Location Fault  \n",
       "0         TRUCK          NO MISUSE  39.263378 -77.344203  3.6383 7.4233     1  \n",
       "1        FIESTA          NO MISUSE  39.068913 -77.063227   3.0862 7.324     1  \n",
       "2           TBU          NO MISUSE  38.993578 -77.032718  3.9583 7.3783     0  \n",
       "3      SUBURBAN              OTHER  39.083480 -77.086933    3.84,-70633     1  \n",
       "4           RIO          NO MISUSE  38.996942 -77.109168  3.9917 7.0183     0  \n",
       "\n",
       "[5 rows x 42 columns]"
      ]
     },
     "execution_count": 297,
     "metadata": {},
     "output_type": "execute_result"
    }
   ],
   "source": [
    "df = pd.read_csv('train.csv')\n",
    "df.head()"
   ]
  },
  {
   "cell_type": "code",
   "execution_count": 2,
   "id": "58c522f8",
   "metadata": {},
   "outputs": [
    {
     "name": "stderr",
     "output_type": "stream",
     "text": [
      "C:\\Users\\Administrator\\AppData\\Local\\Programs\\Python\\Python39\\lib\\site-packages\\IPython\\core\\interactiveshell.py:3444: DtypeWarning: Columns (2) have mixed types.Specify dtype option on import or set low_memory=False.\n",
      "  exec(code_obj, self.user_global_ns, self.user_ns)\n"
     ]
    },
    {
     "data": {
      "text/html": [
       "<div>\n",
       "<style scoped>\n",
       "    .dataframe tbody tr th:only-of-type {\n",
       "        vertical-align: middle;\n",
       "    }\n",
       "\n",
       "    .dataframe tbody tr th {\n",
       "        vertical-align: top;\n",
       "    }\n",
       "\n",
       "    .dataframe thead th {\n",
       "        text-align: right;\n",
       "    }\n",
       "</style>\n",
       "<table border=\"1\" class=\"dataframe\">\n",
       "  <thead>\n",
       "    <tr style=\"text-align: right;\">\n",
       "      <th></th>\n",
       "      <th>Id</th>\n",
       "      <th>Report Number</th>\n",
       "      <th>Local Case Number</th>\n",
       "      <th>Agency Name</th>\n",
       "      <th>ACRS Report Type</th>\n",
       "      <th>Crash Date/Time</th>\n",
       "      <th>Route Type</th>\n",
       "      <th>Road Name</th>\n",
       "      <th>Cross-Street Type</th>\n",
       "      <th>Cross-Street Name</th>\n",
       "      <th>...</th>\n",
       "      <th>Speed Limit</th>\n",
       "      <th>Driverless Vehicle</th>\n",
       "      <th>Parked Vehicle</th>\n",
       "      <th>Vehicle Year</th>\n",
       "      <th>Vehicle Make</th>\n",
       "      <th>Vehicle Model</th>\n",
       "      <th>Equipment Problems</th>\n",
       "      <th>Latitude</th>\n",
       "      <th>Longitude</th>\n",
       "      <th>Location</th>\n",
       "    </tr>\n",
       "  </thead>\n",
       "  <tbody>\n",
       "    <tr>\n",
       "      <th>0</th>\n",
       "      <td>0</td>\n",
       "      <td>MP810M</td>\n",
       "      <td>NaN</td>\n",
       "      <td>MONTGOMERY</td>\n",
       "      <td>Property Damage Crash</td>\n",
       "      <td>12/16/2015 05:42:00 PM</td>\n",
       "      <td>County</td>\n",
       "      <td>WHITTIER BLVD</td>\n",
       "      <td>Maryland (State)</td>\n",
       "      <td>WILSON LA</td>\n",
       "      <td>...</td>\n",
       "      <td>25</td>\n",
       "      <td>No</td>\n",
       "      <td>No</td>\n",
       "      <td>2004</td>\n",
       "      <td>LEXUS</td>\n",
       "      <td>RX330</td>\n",
       "      <td>NO MISUSE</td>\n",
       "      <td>38.988440</td>\n",
       "      <td>-77.127668</td>\n",
       "      <td>3.84,-71763</td>\n",
       "    </tr>\n",
       "    <tr>\n",
       "      <th>1</th>\n",
       "      <td>1</td>\n",
       "      <td>MP2001</td>\n",
       "      <td>NaN</td>\n",
       "      <td>Montgomery County Police</td>\n",
       "      <td>Property Damage Crash</td>\n",
       "      <td>05/01/2016 07:25:00 PM</td>\n",
       "      <td>County</td>\n",
       "      <td>RAILROAD ST</td>\n",
       "      <td>Municipality</td>\n",
       "      <td>E DIAMOND AVE</td>\n",
       "      <td>...</td>\n",
       "      <td>25</td>\n",
       "      <td>No</td>\n",
       "      <td>No</td>\n",
       "      <td>2001</td>\n",
       "      <td>MITSUBISHI</td>\n",
       "      <td>MIRAGE</td>\n",
       "      <td>NO MISUSE</td>\n",
       "      <td>39.094075</td>\n",
       "      <td>-77.205783</td>\n",
       "      <td>3.905 7.0733</td>\n",
       "    </tr>\n",
       "    <tr>\n",
       "      <th>2</th>\n",
       "      <td>2</td>\n",
       "      <td>MP6404</td>\n",
       "      <td>10125</td>\n",
       "      <td>Montgomery County Police</td>\n",
       "      <td>Property Damage Crash</td>\n",
       "      <td>03/16/2018 02:30:00 PM</td>\n",
       "      <td>Maryland (State)</td>\n",
       "      <td>GEORGIA AVE</td>\n",
       "      <td>County</td>\n",
       "      <td>ARCOLA AVE</td>\n",
       "      <td>...</td>\n",
       "      <td>35</td>\n",
       "      <td>No</td>\n",
       "      <td>No</td>\n",
       "      <td>2016</td>\n",
       "      <td>FRIEGHTLINER</td>\n",
       "      <td>AMBULANCE</td>\n",
       "      <td>NO MISUSE</td>\n",
       "      <td>39.047180</td>\n",
       "      <td>-77.052688</td>\n",
       "      <td>3.41,-70283</td>\n",
       "    </tr>\n",
       "    <tr>\n",
       "      <th>3</th>\n",
       "      <td>3</td>\n",
       "      <td>MP0405</td>\n",
       "      <td>10270</td>\n",
       "      <td>Montgomery County Police</td>\n",
       "      <td>Property Damage Crash</td>\n",
       "      <td>05/25/2018 05:00:00 PM</td>\n",
       "      <td>NaN</td>\n",
       "      <td>NaN</td>\n",
       "      <td>NaN</td>\n",
       "      <td>NaN</td>\n",
       "      <td>...</td>\n",
       "      <td>25</td>\n",
       "      <td>No</td>\n",
       "      <td>No</td>\n",
       "      <td>2004</td>\n",
       "      <td>FORD</td>\n",
       "      <td>CN</td>\n",
       "      <td>NaN</td>\n",
       "      <td>39.178007</td>\n",
       "      <td>-77.238475</td>\n",
       "      <td>3.7067 7.345</td>\n",
       "    </tr>\n",
       "    <tr>\n",
       "      <th>4</th>\n",
       "      <td>4</td>\n",
       "      <td>MP090D</td>\n",
       "      <td>10374</td>\n",
       "      <td>Montgomery County Police</td>\n",
       "      <td>Property Damage Crash</td>\n",
       "      <td>09/23/2017 05:40:00 PM</td>\n",
       "      <td>Interstate (State)</td>\n",
       "      <td>EISENHOWER MEMORIAL HWY</td>\n",
       "      <td>Maryland (State)</td>\n",
       "      <td>MONTROSE RD</td>\n",
       "      <td>...</td>\n",
       "      <td>55</td>\n",
       "      <td>No</td>\n",
       "      <td>No</td>\n",
       "      <td>2008</td>\n",
       "      <td>UTIL</td>\n",
       "      <td>TL</td>\n",
       "      <td>UNKNOWN</td>\n",
       "      <td>39.056134</td>\n",
       "      <td>-77.154043</td>\n",
       "      <td>3.5143 7.5022</td>\n",
       "    </tr>\n",
       "  </tbody>\n",
       "</table>\n",
       "<p>5 rows × 42 columns</p>\n",
       "</div>"
      ],
      "text/plain": [
       "   Id Report Number Local Case Number               Agency Name  \\\n",
       "0   0        MP810M               NaN                MONTGOMERY   \n",
       "1   1        MP2001               NaN  Montgomery County Police   \n",
       "2   2        MP6404             10125  Montgomery County Police   \n",
       "3   3        MP0405             10270  Montgomery County Police   \n",
       "4   4        MP090D             10374  Montgomery County Police   \n",
       "\n",
       "        ACRS Report Type         Crash Date/Time          Route Type  \\\n",
       "0  Property Damage Crash  12/16/2015 05:42:00 PM              County   \n",
       "1  Property Damage Crash  05/01/2016 07:25:00 PM              County   \n",
       "2  Property Damage Crash  03/16/2018 02:30:00 PM    Maryland (State)   \n",
       "3  Property Damage Crash  05/25/2018 05:00:00 PM                 NaN   \n",
       "4  Property Damage Crash  09/23/2017 05:40:00 PM  Interstate (State)   \n",
       "\n",
       "                 Road Name Cross-Street Type Cross-Street Name  ...  \\\n",
       "0            WHITTIER BLVD  Maryland (State)         WILSON LA  ...   \n",
       "1              RAILROAD ST      Municipality     E DIAMOND AVE  ...   \n",
       "2              GEORGIA AVE            County        ARCOLA AVE  ...   \n",
       "3                      NaN               NaN               NaN  ...   \n",
       "4  EISENHOWER MEMORIAL HWY  Maryland (State)       MONTROSE RD  ...   \n",
       "\n",
       "  Speed Limit Driverless Vehicle Parked Vehicle Vehicle Year  Vehicle Make  \\\n",
       "0          25                 No             No         2004         LEXUS   \n",
       "1          25                 No             No         2001    MITSUBISHI   \n",
       "2          35                 No             No         2016  FRIEGHTLINER   \n",
       "3          25                 No             No         2004          FORD   \n",
       "4          55                 No             No         2008          UTIL   \n",
       "\n",
       "  Vehicle Model Equipment Problems   Latitude  Longitude       Location  \n",
       "0         RX330          NO MISUSE  38.988440 -77.127668    3.84,-71763  \n",
       "1        MIRAGE          NO MISUSE  39.094075 -77.205783   3.905 7.0733  \n",
       "2     AMBULANCE          NO MISUSE  39.047180 -77.052688    3.41,-70283  \n",
       "3            CN                NaN  39.178007 -77.238475   3.7067 7.345  \n",
       "4            TL            UNKNOWN  39.056134 -77.154043  3.5143 7.5022  \n",
       "\n",
       "[5 rows x 42 columns]"
      ]
     },
     "execution_count": 2,
     "metadata": {},
     "output_type": "execute_result"
    }
   ],
   "source": [
    "test_df = pd.read_csv('test.csv')\n",
    "test_df.head()"
   ]
  },
  {
   "cell_type": "code",
   "execution_count": 3,
   "id": "12db9829",
   "metadata": {},
   "outputs": [
    {
     "data": {
      "text/plain": [
       "0        1\n",
       "51496    1\n",
       "51494    1\n",
       "51493    1\n",
       "51492    1\n",
       "        ..\n",
       "25744    1\n",
       "25743    1\n",
       "25742    1\n",
       "25741    1\n",
       "77234    1\n",
       "Name: Id, Length: 77235, dtype: int64"
      ]
     },
     "execution_count": 3,
     "metadata": {},
     "output_type": "execute_result"
    }
   ],
   "source": [
    "test_df['Id'].value_counts()"
   ]
  },
  {
   "cell_type": "code",
   "execution_count": 299,
   "id": "5359c240",
   "metadata": {},
   "outputs": [
    {
     "name": "stdout",
     "output_type": "stream",
     "text": [
      "<class 'pandas.core.frame.DataFrame'>\n",
      "RangeIndex: 51490 entries, 0 to 51489\n",
      "Data columns (total 42 columns):\n",
      " #   Column                          Non-Null Count  Dtype  \n",
      "---  ------                          --------------  -----  \n",
      " 0   Report Number                   51490 non-null  object \n",
      " 1   Local Case Number               45037 non-null  object \n",
      " 2   Agency Name                     51490 non-null  object \n",
      " 3   ACRS Report Type                51490 non-null  object \n",
      " 4   Crash Date/Time                 51490 non-null  object \n",
      " 5   Route Type                      46522 non-null  object \n",
      " 6   Road Name                       46988 non-null  object \n",
      " 7   Cross-Street Type               46471 non-null  object \n",
      " 8   Cross-Street Name               46968 non-null  object \n",
      " 9   Off-Road Description            6950 non-null   object \n",
      " 10  Municipality                    7567 non-null   object \n",
      " 11  Related Non-Motorist            3648 non-null   object \n",
      " 12  Collision Type                  51191 non-null  object \n",
      " 13  Weather                         47461 non-null  object \n",
      " 14  Surface Condition               45611 non-null  object \n",
      " 15  Light                           50786 non-null  object \n",
      " 16  Traffic Control                 43716 non-null  object \n",
      " 17  Driver Substance Abuse          42395 non-null  object \n",
      " 18  Non-Motorist Substance Abuse    3384 non-null   object \n",
      " 19  Person ID                       51490 non-null  object \n",
      " 20  Injury Severity                 51490 non-null  object \n",
      " 21  Circumstance                    11752 non-null  object \n",
      " 22  Drivers License State           48962 non-null  object \n",
      " 23  Vehicle ID                      51490 non-null  object \n",
      " 24  Vehicle Damage Extent           51093 non-null  object \n",
      " 25  Vehicle First Impact Location   51268 non-null  object \n",
      " 26  Vehicle Second Impact Location  51256 non-null  object \n",
      " 27  Vehicle Body Type               50705 non-null  object \n",
      " 28  Vehicle Movement                51292 non-null  object \n",
      " 29  Vehicle Continuing Dir          50361 non-null  object \n",
      " 30  Vehicle Going Dir               50377 non-null  object \n",
      " 31  Speed Limit                     51490 non-null  int64  \n",
      " 32  Driverless Vehicle              51490 non-null  object \n",
      " 33  Parked Vehicle                  51490 non-null  object \n",
      " 34  Vehicle Year                    51490 non-null  int64  \n",
      " 35  Vehicle Make                    51482 non-null  object \n",
      " 36  Vehicle Model                   51471 non-null  object \n",
      " 37  Equipment Problems              40824 non-null  object \n",
      " 38  Latitude                        51490 non-null  float64\n",
      " 39  Longitude                       51490 non-null  float64\n",
      " 40  Location                        51490 non-null  object \n",
      " 41  Fault                           51490 non-null  int64  \n",
      "dtypes: float64(2), int64(3), object(37)\n",
      "memory usage: 16.5+ MB\n"
     ]
    }
   ],
   "source": [
    "df.info()"
   ]
  },
  {
   "cell_type": "code",
   "execution_count": 300,
   "id": "3cba2ab1",
   "metadata": {},
   "outputs": [],
   "source": [
    "df['Crash Date/Time'] = pd.to_datetime(df['Crash Date/Time'])\n",
    "df['year'] = df['Crash Date/Time'].dt.year\n",
    "df['month'] = df['Crash Date/Time'].dt.month\n",
    "df['date'] = df['Crash Date/Time'].dt.day\n",
    "df['day'] = df['Crash Date/Time'].dt.dayofweek\n",
    "df['hour'] = df['Crash Date/Time'].dt.hour\n",
    "df.drop('Crash Date/Time', axis = 1, inplace = True)"
   ]
  },
  {
   "cell_type": "code",
   "execution_count": 301,
   "id": "21c554e4",
   "metadata": {},
   "outputs": [],
   "source": [
    "unique, counts = np.unique(df['Report Number'], return_counts = True)"
   ]
  },
  {
   "cell_type": "code",
   "execution_count": 302,
   "id": "d4ace656",
   "metadata": {},
   "outputs": [
    {
     "data": {
      "text/plain": [
       "51490"
      ]
     },
     "execution_count": 302,
     "metadata": {},
     "output_type": "execute_result"
    }
   ],
   "source": [
    "counts.sum()"
   ]
  },
  {
   "cell_type": "code",
   "execution_count": 303,
   "id": "b74388a9",
   "metadata": {},
   "outputs": [
    {
     "data": {
      "text/plain": [
       "(51490, 45)"
      ]
     },
     "execution_count": 303,
     "metadata": {},
     "output_type": "execute_result"
    }
   ],
   "source": [
    "df.drop('Report Number', axis = 1, inplace=True)\n",
    "df.shape"
   ]
  },
  {
   "cell_type": "code",
   "execution_count": 304,
   "id": "a9bd6ef0",
   "metadata": {},
   "outputs": [],
   "source": [
    "df.drop('Local Case Number', axis = 1, inplace=True)"
   ]
  },
  {
   "cell_type": "code",
   "execution_count": 305,
   "id": "869e1ec5",
   "metadata": {},
   "outputs": [
    {
     "data": {
      "text/plain": [
       "(51490, 44)"
      ]
     },
     "execution_count": 305,
     "metadata": {},
     "output_type": "execute_result"
    }
   ],
   "source": [
    "df.shape"
   ]
  },
  {
   "cell_type": "code",
   "execution_count": 306,
   "id": "d28995a8",
   "metadata": {},
   "outputs": [
    {
     "data": {
      "text/plain": [
       "Maryland (State)        22482\n",
       "County                  16059\n",
       "Municipality             2840\n",
       "US (State)               2291\n",
       "Interstate (State)       1145\n",
       "Other Public Roadway      489\n",
       "Ramp                      398\n",
       "Government                390\n",
       "Service Road              218\n",
       "Unknown                   210\n",
       "Name: Route Type, dtype: int64"
      ]
     },
     "execution_count": 306,
     "metadata": {},
     "output_type": "execute_result"
    }
   ],
   "source": [
    "df['Route Type'].value_counts()"
   ]
  },
  {
   "cell_type": "code",
   "execution_count": 307,
   "id": "467a64ab",
   "metadata": {},
   "outputs": [
    {
     "data": {
      "text/plain": [
       "count                51490\n",
       "unique                  10\n",
       "top       Maryland (State)\n",
       "freq                 27450\n",
       "Name: Route Type, dtype: object"
      ]
     },
     "execution_count": 307,
     "metadata": {},
     "output_type": "execute_result"
    }
   ],
   "source": [
    "df['Route Type'] = df['Route Type'].fillna(df['Route Type'].mode()[0])\n",
    "df['Route Type'].describe()"
   ]
  },
  {
   "cell_type": "code",
   "execution_count": 308,
   "id": "e287d1b1",
   "metadata": {},
   "outputs": [
    {
     "data": {
      "text/plain": [
       "count           51490\n",
       "unique           2226\n",
       "top       GEORGIA AVE\n",
       "freq             7624\n",
       "Name: Road Name, dtype: object"
      ]
     },
     "execution_count": 308,
     "metadata": {},
     "output_type": "execute_result"
    }
   ],
   "source": [
    "df['Road Name'] = df['Road Name'].fillna(df['Road Name'].mode()[0])\n",
    "df['Road Name'].describe()"
   ]
  },
  {
   "cell_type": "code",
   "execution_count": 309,
   "id": "2303518d",
   "metadata": {},
   "outputs": [
    {
     "data": {
      "text/plain": [
       "count      51490\n",
       "unique        10\n",
       "top       County\n",
       "freq       29713\n",
       "Name: Cross-Street Type, dtype: object"
      ]
     },
     "execution_count": 309,
     "metadata": {},
     "output_type": "execute_result"
    }
   ],
   "source": [
    "df['Cross-Street Type'] = df['Cross-Street Type'].fillna(df['Cross-Street Type'].mode()[0])\n",
    "df['Cross-Street Type'].describe()"
   ]
  },
  {
   "cell_type": "code",
   "execution_count": 310,
   "id": "bc8a17b2",
   "metadata": {},
   "outputs": [
    {
     "data": {
      "text/plain": [
       "count           51490\n",
       "unique           4525\n",
       "top       GEORGIA AVE\n",
       "freq             5138\n",
       "Name: Cross-Street Name, dtype: object"
      ]
     },
     "execution_count": 310,
     "metadata": {},
     "output_type": "execute_result"
    }
   ],
   "source": [
    "df['Cross-Street Name'] = df['Cross-Street Name'].fillna(df['Cross-Street Name'].mode()[0])\n",
    "df['Cross-Street Name'].describe()"
   ]
  },
  {
   "cell_type": "code",
   "execution_count": 311,
   "id": "5cb41a4e",
   "metadata": {},
   "outputs": [
    {
     "data": {
      "text/plain": [
       "(51490, 43)"
      ]
     },
     "execution_count": 311,
     "metadata": {},
     "output_type": "execute_result"
    }
   ],
   "source": [
    "df.drop('Off-Road Description', axis = 1, inplace = True)\n",
    "df.shape"
   ]
  },
  {
   "cell_type": "code",
   "execution_count": 312,
   "id": "787ee4d7",
   "metadata": {},
   "outputs": [
    {
     "data": {
      "text/plain": [
       "count         51490\n",
       "unique           20\n",
       "top       ROCKVILLE\n",
       "freq          46629\n",
       "Name: Municipality, dtype: object"
      ]
     },
     "execution_count": 312,
     "metadata": {},
     "output_type": "execute_result"
    }
   ],
   "source": [
    "df['Municipality'] = df['Municipality'].fillna(df['Municipality'].mode()[0])\n",
    "df['Municipality'].describe()"
   ]
  },
  {
   "cell_type": "code",
   "execution_count": 313,
   "id": "2d3bf3c9",
   "metadata": {},
   "outputs": [],
   "source": [
    "df.drop('Related Non-Motorist', axis = 1, inplace = True)"
   ]
  },
  {
   "cell_type": "code",
   "execution_count": 314,
   "id": "57d046ff",
   "metadata": {},
   "outputs": [
    {
     "data": {
      "text/plain": [
       "(51490, 42)"
      ]
     },
     "execution_count": 314,
     "metadata": {},
     "output_type": "execute_result"
    }
   ],
   "source": [
    "df.shape"
   ]
  },
  {
   "cell_type": "code",
   "execution_count": 315,
   "id": "9a37ef13",
   "metadata": {},
   "outputs": [
    {
     "data": {
      "text/plain": [
       "count                 51490\n",
       "unique                   18\n",
       "top       SAME DIR REAR END\n",
       "freq                  17030\n",
       "Name: Collision Type, dtype: object"
      ]
     },
     "execution_count": 315,
     "metadata": {},
     "output_type": "execute_result"
    }
   ],
   "source": [
    "df['Collision Type'] = df['Collision Type'].fillna(df['Collision Type'].mode()[0])\n",
    "df['Collision Type'].describe()"
   ]
  },
  {
   "cell_type": "code",
   "execution_count": 316,
   "id": "a70109a7",
   "metadata": {},
   "outputs": [
    {
     "data": {
      "text/plain": [
       "count     51490\n",
       "unique       12\n",
       "top       CLEAR\n",
       "freq      37143\n",
       "Name: Weather, dtype: object"
      ]
     },
     "execution_count": 316,
     "metadata": {},
     "output_type": "execute_result"
    }
   ],
   "source": [
    "df['Weather'] = df['Weather'].fillna(df['Weather'].mode()[0]) \n",
    "df['Weather'].describe()"
   ]
  },
  {
   "cell_type": "code",
   "execution_count": 317,
   "id": "ca57bcbf",
   "metadata": {},
   "outputs": [
    {
     "data": {
      "text/plain": [
       "count     51490\n",
       "unique       11\n",
       "top         DRY\n",
       "freq      40076\n",
       "Name: Surface Condition, dtype: object"
      ]
     },
     "execution_count": 317,
     "metadata": {},
     "output_type": "execute_result"
    }
   ],
   "source": [
    "df['Surface Condition'] = df['Surface Condition'].fillna(df['Surface Condition'].mode()[0])\n",
    "df['Surface Condition'].describe()"
   ]
  },
  {
   "cell_type": "code",
   "execution_count": 318,
   "id": "3a3de09b",
   "metadata": {},
   "outputs": [
    {
     "data": {
      "text/plain": [
       "DAYLIGHT                    33617\n",
       "DARK LIGHTS ON              11224\n",
       "DARK NO LIGHTS               1716\n",
       "DUSK                         1425\n",
       "DAWN                         1222\n",
       "DARK -- UNKNOWN LIGHTING      727\n",
       "UNKNOWN                       480\n",
       "OTHER                         375\n",
       "Name: Light, dtype: int64"
      ]
     },
     "execution_count": 318,
     "metadata": {},
     "output_type": "execute_result"
    }
   ],
   "source": [
    "df['Light'].value_counts()"
   ]
  },
  {
   "cell_type": "code",
   "execution_count": 319,
   "id": "8294c9eb",
   "metadata": {},
   "outputs": [],
   "source": [
    "temp = df['Light'].loc[(df['hour'] >= 6) & (df['hour'] < 17)]\n",
    "temp = temp.fillna('DAYLIGHT')\n",
    "df.update(temp)"
   ]
  },
  {
   "cell_type": "code",
   "execution_count": 320,
   "id": "1508931d",
   "metadata": {},
   "outputs": [],
   "source": [
    "temp = df['Light'].loc[(df['hour'] >= 17) & (df['hour'] < 18)]\n",
    "temp = temp.fillna('DAYLIGHT')\n",
    "df.update(temp)"
   ]
  },
  {
   "cell_type": "code",
   "execution_count": 321,
   "id": "af664730",
   "metadata": {},
   "outputs": [],
   "source": [
    "temp = df['Light'].loc[(df['hour'] >= 18) & (df['hour'] <= 23)]\n",
    "temp = temp.fillna('DARK LIGHTS ON')\n",
    "df.update(temp)"
   ]
  },
  {
   "cell_type": "code",
   "execution_count": 322,
   "id": "324a7419",
   "metadata": {},
   "outputs": [],
   "source": [
    "temp = df['Light'].loc[(df['hour'] >= 0) & (df['hour'] < 5)]\n",
    "temp = temp.fillna('DARK LIGHTS ON')\n",
    "df.update(temp)"
   ]
  },
  {
   "cell_type": "code",
   "execution_count": 323,
   "id": "2fc1d5d5",
   "metadata": {},
   "outputs": [],
   "source": [
    "temp = df['Light'].loc[(df['hour'] >= 5) & (df['hour'] < 6)]\n",
    "temp = temp.fillna('DARK LIGHTS ON')\n",
    "df.update(temp)"
   ]
  },
  {
   "cell_type": "code",
   "execution_count": 324,
   "id": "3e5cb169",
   "metadata": {},
   "outputs": [
    {
     "data": {
      "text/plain": [
       "0"
      ]
     },
     "execution_count": 324,
     "metadata": {},
     "output_type": "execute_result"
    }
   ],
   "source": [
    "df['Light'].isnull().sum()"
   ]
  },
  {
   "cell_type": "code",
   "execution_count": 325,
   "id": "d2ce2af9",
   "metadata": {},
   "outputs": [
    {
     "data": {
      "text/plain": [
       "DAYLIGHT                    34114\n",
       "DARK LIGHTS ON              11431\n",
       "DARK NO LIGHTS               1716\n",
       "DUSK                         1425\n",
       "DAWN                         1222\n",
       "DARK -- UNKNOWN LIGHTING      727\n",
       "UNKNOWN                       480\n",
       "OTHER                         375\n",
       "Name: Light, dtype: int64"
      ]
     },
     "execution_count": 325,
     "metadata": {},
     "output_type": "execute_result"
    }
   ],
   "source": [
    "df['Light'].value_counts()"
   ]
  },
  {
   "cell_type": "code",
   "execution_count": 326,
   "id": "4da8a4be",
   "metadata": {},
   "outputs": [
    {
     "data": {
      "text/plain": [
       "0"
      ]
     },
     "execution_count": 326,
     "metadata": {},
     "output_type": "execute_result"
    }
   ],
   "source": [
    "df['Traffic Control'] = df['Traffic Control'].fillna(df['Traffic Control'].mode()[0])\n",
    "df['Traffic Control'].isnull().sum()"
   ]
  },
  {
   "cell_type": "code",
   "execution_count": 327,
   "id": "f2c49a51",
   "metadata": {},
   "outputs": [],
   "source": [
    "df['Driver Substance Abuse'] = df['Driver Substance Abuse'].fillna(df['Driver Substance Abuse'].mode()[0])"
   ]
  },
  {
   "cell_type": "code",
   "execution_count": 328,
   "id": "c2bf2406",
   "metadata": {},
   "outputs": [],
   "source": [
    "df.drop('Non-Motorist Substance Abuse', axis = 1, inplace = True)"
   ]
  },
  {
   "cell_type": "code",
   "execution_count": 329,
   "id": "82e9258e",
   "metadata": {},
   "outputs": [],
   "source": [
    "df.drop('Circumstance', axis = 1, inplace = True)"
   ]
  },
  {
   "cell_type": "code",
   "execution_count": 330,
   "id": "1c72648f",
   "metadata": {},
   "outputs": [
    {
     "data": {
      "text/plain": [
       "0"
      ]
     },
     "execution_count": 330,
     "metadata": {},
     "output_type": "execute_result"
    }
   ],
   "source": [
    "df['Drivers License State'] = df['Drivers License State'].fillna(df['Drivers License State'].mode()[0])\n",
    "df['Drivers License State'].isnull().sum()"
   ]
  },
  {
   "cell_type": "code",
   "execution_count": 331,
   "id": "ff52ec5e",
   "metadata": {},
   "outputs": [],
   "source": [
    "df['Vehicle Damage Extent'] = df['Vehicle Damage Extent'].fillna(df['Vehicle Damage Extent'].mode()[0])"
   ]
  },
  {
   "cell_type": "code",
   "execution_count": 332,
   "id": "b78fdbf0",
   "metadata": {},
   "outputs": [],
   "source": [
    "df['Vehicle First Impact Location'] = df['Vehicle First Impact Location'].fillna(df['Vehicle First Impact Location'].mode()[0])"
   ]
  },
  {
   "cell_type": "code",
   "execution_count": 333,
   "id": "4eaeae87",
   "metadata": {},
   "outputs": [],
   "source": [
    "df['Vehicle Second Impact Location'] = df['Vehicle Second Impact Location'].fillna(df['Vehicle Second Impact Location'].mode()[0])"
   ]
  },
  {
   "cell_type": "code",
   "execution_count": 334,
   "id": "8866b2b4",
   "metadata": {},
   "outputs": [],
   "source": [
    "df['Vehicle Body Type'] = df['Vehicle Body Type'].fillna(df['Vehicle Body Type'].mode()[0])"
   ]
  },
  {
   "cell_type": "code",
   "execution_count": 335,
   "id": "4d371e72",
   "metadata": {},
   "outputs": [],
   "source": [
    "df['Vehicle Movement'] = df['Vehicle Movement'].fillna(df['Vehicle Movement'].mode()[0])"
   ]
  },
  {
   "cell_type": "code",
   "execution_count": 336,
   "id": "d71c0600",
   "metadata": {},
   "outputs": [],
   "source": [
    "df['Vehicle Continuing Dir'] = df['Vehicle Continuing Dir'].fillna(df['Vehicle Continuing Dir'].mode()[0])"
   ]
  },
  {
   "cell_type": "code",
   "execution_count": 337,
   "id": "145abbde",
   "metadata": {},
   "outputs": [],
   "source": [
    "df['Vehicle Going Dir'] = df['Vehicle Going Dir'].fillna(df['Vehicle Going Dir'].mode()[0])"
   ]
  },
  {
   "cell_type": "code",
   "execution_count": 338,
   "id": "7b5f18c8",
   "metadata": {},
   "outputs": [],
   "source": [
    "df['Vehicle Make'] = df['Vehicle Make'].fillna(df['Vehicle Make'].mode()[0])"
   ]
  },
  {
   "cell_type": "code",
   "execution_count": 339,
   "id": "6d34aec3",
   "metadata": {},
   "outputs": [],
   "source": [
    "df['Vehicle Model'] = df['Vehicle Model'].fillna(df['Vehicle Model'].mode()[0])"
   ]
  },
  {
   "cell_type": "code",
   "execution_count": 340,
   "id": "9085cfe9",
   "metadata": {},
   "outputs": [],
   "source": [
    "df['Equipment Problems'] = df['Equipment Problems'].fillna(df['Equipment Problems'].mode()[0])"
   ]
  },
  {
   "cell_type": "code",
   "execution_count": 341,
   "id": "614e552c",
   "metadata": {},
   "outputs": [
    {
     "name": "stdout",
     "output_type": "stream",
     "text": [
      "<class 'pandas.core.frame.DataFrame'>\n",
      "RangeIndex: 51490 entries, 0 to 51489\n",
      "Data columns (total 40 columns):\n",
      " #   Column                          Non-Null Count  Dtype  \n",
      "---  ------                          --------------  -----  \n",
      " 0   Agency Name                     51490 non-null  object \n",
      " 1   ACRS Report Type                51490 non-null  object \n",
      " 2   Route Type                      51490 non-null  object \n",
      " 3   Road Name                       51490 non-null  object \n",
      " 4   Cross-Street Type               51490 non-null  object \n",
      " 5   Cross-Street Name               51490 non-null  object \n",
      " 6   Municipality                    51490 non-null  object \n",
      " 7   Collision Type                  51490 non-null  object \n",
      " 8   Weather                         51490 non-null  object \n",
      " 9   Surface Condition               51490 non-null  object \n",
      " 10  Light                           51490 non-null  object \n",
      " 11  Traffic Control                 51490 non-null  object \n",
      " 12  Driver Substance Abuse          51490 non-null  object \n",
      " 13  Person ID                       51490 non-null  object \n",
      " 14  Injury Severity                 51490 non-null  object \n",
      " 15  Drivers License State           51490 non-null  object \n",
      " 16  Vehicle ID                      51490 non-null  object \n",
      " 17  Vehicle Damage Extent           51490 non-null  object \n",
      " 18  Vehicle First Impact Location   51490 non-null  object \n",
      " 19  Vehicle Second Impact Location  51490 non-null  object \n",
      " 20  Vehicle Body Type               51490 non-null  object \n",
      " 21  Vehicle Movement                51490 non-null  object \n",
      " 22  Vehicle Continuing Dir          51490 non-null  object \n",
      " 23  Vehicle Going Dir               51490 non-null  object \n",
      " 24  Speed Limit                     51490 non-null  int64  \n",
      " 25  Driverless Vehicle              51490 non-null  object \n",
      " 26  Parked Vehicle                  51490 non-null  object \n",
      " 27  Vehicle Year                    51490 non-null  int64  \n",
      " 28  Vehicle Make                    51490 non-null  object \n",
      " 29  Vehicle Model                   51490 non-null  object \n",
      " 30  Equipment Problems              51490 non-null  object \n",
      " 31  Latitude                        51490 non-null  float64\n",
      " 32  Longitude                       51490 non-null  float64\n",
      " 33  Location                        51490 non-null  object \n",
      " 34  Fault                           51490 non-null  int64  \n",
      " 35  year                            51490 non-null  int64  \n",
      " 36  month                           51490 non-null  int64  \n",
      " 37  date                            51490 non-null  int64  \n",
      " 38  day                             51490 non-null  int64  \n",
      " 39  hour                            51490 non-null  int64  \n",
      "dtypes: float64(2), int64(8), object(30)\n",
      "memory usage: 15.7+ MB\n"
     ]
    }
   ],
   "source": [
    "df.info()"
   ]
  },
  {
   "cell_type": "markdown",
   "id": "f2016fa3",
   "metadata": {},
   "source": [
    "## Converting categorical data to numeric data"
   ]
  },
  {
   "cell_type": "code",
   "execution_count": 342,
   "id": "5832740b",
   "metadata": {},
   "outputs": [],
   "source": [
    "col_ls = df._get_numeric_data().columns\n",
    "categorical_ls = list(set(df.columns) - set(col_ls))\n",
    "\n",
    "le = LabelEncoder()\n",
    "\n",
    "for col_name in categorical_ls:\n",
    "    df[col_name] = le.fit_transform(df[col_name])"
   ]
  },
  {
   "cell_type": "code",
   "execution_count": 343,
   "id": "4518d6d6",
   "metadata": {},
   "outputs": [
    {
     "name": "stdout",
     "output_type": "stream",
     "text": [
      "<class 'pandas.core.frame.DataFrame'>\n",
      "RangeIndex: 51490 entries, 0 to 51489\n",
      "Data columns (total 40 columns):\n",
      " #   Column                          Non-Null Count  Dtype  \n",
      "---  ------                          --------------  -----  \n",
      " 0   Agency Name                     51490 non-null  int32  \n",
      " 1   ACRS Report Type                51490 non-null  int32  \n",
      " 2   Route Type                      51490 non-null  int32  \n",
      " 3   Road Name                       51490 non-null  int32  \n",
      " 4   Cross-Street Type               51490 non-null  int32  \n",
      " 5   Cross-Street Name               51490 non-null  int32  \n",
      " 6   Municipality                    51490 non-null  int32  \n",
      " 7   Collision Type                  51490 non-null  int32  \n",
      " 8   Weather                         51490 non-null  int32  \n",
      " 9   Surface Condition               51490 non-null  int32  \n",
      " 10  Light                           51490 non-null  int32  \n",
      " 11  Traffic Control                 51490 non-null  int32  \n",
      " 12  Driver Substance Abuse          51490 non-null  int32  \n",
      " 13  Person ID                       51490 non-null  int32  \n",
      " 14  Injury Severity                 51490 non-null  int32  \n",
      " 15  Drivers License State           51490 non-null  int32  \n",
      " 16  Vehicle ID                      51490 non-null  int32  \n",
      " 17  Vehicle Damage Extent           51490 non-null  int32  \n",
      " 18  Vehicle First Impact Location   51490 non-null  int32  \n",
      " 19  Vehicle Second Impact Location  51490 non-null  int32  \n",
      " 20  Vehicle Body Type               51490 non-null  int32  \n",
      " 21  Vehicle Movement                51490 non-null  int32  \n",
      " 22  Vehicle Continuing Dir          51490 non-null  int32  \n",
      " 23  Vehicle Going Dir               51490 non-null  int32  \n",
      " 24  Speed Limit                     51490 non-null  int64  \n",
      " 25  Driverless Vehicle              51490 non-null  int32  \n",
      " 26  Parked Vehicle                  51490 non-null  int32  \n",
      " 27  Vehicle Year                    51490 non-null  int64  \n",
      " 28  Vehicle Make                    51490 non-null  int32  \n",
      " 29  Vehicle Model                   51490 non-null  int32  \n",
      " 30  Equipment Problems              51490 non-null  int32  \n",
      " 31  Latitude                        51490 non-null  float64\n",
      " 32  Longitude                       51490 non-null  float64\n",
      " 33  Location                        51490 non-null  int32  \n",
      " 34  Fault                           51490 non-null  int64  \n",
      " 35  year                            51490 non-null  int64  \n",
      " 36  month                           51490 non-null  int64  \n",
      " 37  date                            51490 non-null  int64  \n",
      " 38  day                             51490 non-null  int64  \n",
      " 39  hour                            51490 non-null  int64  \n",
      "dtypes: float64(2), int32(30), int64(8)\n",
      "memory usage: 9.8 MB\n"
     ]
    }
   ],
   "source": [
    "df.info()"
   ]
  },
  {
   "cell_type": "markdown",
   "id": "23bec52c",
   "metadata": {},
   "source": [
    "## Normalizing the columns"
   ]
  },
  {
   "cell_type": "code",
   "execution_count": 346,
   "id": "caa57f19",
   "metadata": {},
   "outputs": [],
   "source": [
    "mms = MinMaxScaler()\n",
    "cols = df.columns\n",
    "vals = df.values\n",
    "vals_scaled = mms.fit_transform(vals)\n",
    "df = pd.DataFrame(vals_scaled, columns=cols)"
   ]
  },
  {
   "cell_type": "code",
   "execution_count": 353,
   "id": "307c30b3",
   "metadata": {},
   "outputs": [],
   "source": [
    "X,y = df.drop('Fault',axis=1), df['Fault']"
   ]
  },
  {
   "cell_type": "code",
   "execution_count": null,
   "id": "709e50a6",
   "metadata": {},
   "outputs": [],
   "source": [
    "# feat_sel = ExtraTreesClassifier()\n",
    "# feat_sel.fit(X,y)\n",
    "# feat_imp = pd.Series(feat_sel.feature_importances_,index = X.columns)\n",
    "# feat_imp.nlargest(15).plot(kind='barh')\n",
    "# plt.show()"
   ]
  },
  {
   "cell_type": "code",
   "execution_count": null,
   "id": "1ea1548d",
   "metadata": {},
   "outputs": [],
   "source": []
  }
 ],
 "metadata": {
  "kernelspec": {
   "display_name": "Python 3 (ipykernel)",
   "language": "python",
   "name": "python3"
  },
  "language_info": {
   "codemirror_mode": {
    "name": "ipython",
    "version": 3
   },
   "file_extension": ".py",
   "mimetype": "text/x-python",
   "name": "python",
   "nbconvert_exporter": "python",
   "pygments_lexer": "ipython3",
   "version": "3.9.6"
  }
 },
 "nbformat": 4,
 "nbformat_minor": 5
}
